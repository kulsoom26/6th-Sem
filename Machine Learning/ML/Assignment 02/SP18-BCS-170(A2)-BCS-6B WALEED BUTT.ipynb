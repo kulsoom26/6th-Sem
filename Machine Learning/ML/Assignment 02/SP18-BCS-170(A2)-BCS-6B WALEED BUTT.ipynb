{
 "cells": [
  {
   "cell_type": "markdown",
   "metadata": {},
   "source": [
    "# Assignment 02 Machine Learning\n",
    "\n",
    "## Name: Waleed Butt\n",
    "\n",
    "## Reg# SP18-BCS-170\n",
    "\n",
    "## BCS-6B\n",
    "\n",
    "### Loading Data"
   ]
  },
  {
   "cell_type": "code",
   "execution_count": 140,
   "metadata": {
    "colab": {
     "base_uri": "https://localhost:8080/"
    },
    "executionInfo": {
     "elapsed": 49905,
     "status": "ok",
     "timestamp": 1605928831454,
     "user": {
      "displayName": "Waleed Butt",
      "photoUrl": "https://lh3.googleusercontent.com/a-/AOh14GgcYtFQ58w_VLNnyvXSFDWAvpnqu1sYBSvDTaFkSA=s64",
      "userId": "12776319714733190762"
     },
     "user_tz": -300
    },
    "id": "YK6Kn0qOT-R4",
    "outputId": "1956c718-030e-4edf-d987-b027d0272efa"
   },
   "outputs": [],
   "source": [
    "# from google.colab import drive\n",
    "# drive.mount('/content/drive')\n",
    "\n",
    "import numpy as np\n",
    "import pandas as pd\n",
    "\n",
    "# main_frame = pd.read_csv('/content/drive/My Drive/Colab Notebooks/IoT Intrusion Dataset 2020.csv')\n",
    "\n",
    "main_frame = pd.read_csv('C:\\\\users\\\\walee\\\\Downloads\\\\IoT Intrusion Dataset 2020.csv')"
   ]
  },
  {
   "cell_type": "markdown",
   "metadata": {},
   "source": [
    "### A Method to Convert String Data to Float for training"
   ]
  },
  {
   "cell_type": "code",
   "execution_count": 141,
   "metadata": {},
   "outputs": [],
   "source": [
    "def string_to_float(string):\n",
    "    res = 0\n",
    "    for i in string:\n",
    "        res += (ord(i))\n",
    "    return float((res * 1.0)/len(string))"
   ]
  },
  {
   "cell_type": "markdown",
   "metadata": {},
   "source": [
    "### Deciding amount of data kept for training (40% for testing)"
   ]
  },
  {
   "cell_type": "code",
   "execution_count": 148,
   "metadata": {},
   "outputs": [
    {
     "data": {
      "text/plain": [
       "250313"
      ]
     },
     "execution_count": 148,
     "metadata": {},
     "output_type": "execute_result"
    }
   ],
   "source": [
    "train_length = int(len(main_frame)*0.4)\n",
    "train_length"
   ]
  },
  {
   "cell_type": "markdown",
   "metadata": {},
   "source": [
    "## Part A ONLY (Label column as Output)"
   ]
  },
  {
   "cell_type": "code",
   "execution_count": 160,
   "metadata": {
    "executionInfo": {
     "elapsed": 49900,
     "status": "ok",
     "timestamp": 1605928831457,
     "user": {
      "displayName": "Waleed Butt",
      "photoUrl": "https://lh3.googleusercontent.com/a-/AOh14GgcYtFQ58w_VLNnyvXSFDWAvpnqu1sYBSvDTaFkSA=s64",
      "userId": "12776319714733190762"
     },
     "user_tz": -300
    },
    "id": "j9w8xUh3WoFR"
   },
   "outputs": [],
   "source": [
    "# Data To Train Our Model with labels\n",
    "train_data, train_label = main_frame.iloc[:-train_length, [x for x in range(86) if x!=83]], main_frame.Label[:-train_length]\n",
    "\n",
    "# Data to Test Our Model Later\n",
    "test_data, test_label = main_frame.iloc[-train_length:, [x for x in range(86) if x!=83]], main_frame.Label[-train_length:]"
   ]
  },
  {
   "cell_type": "markdown",
   "metadata": {},
   "source": [
    "### Replacing Anomoly with 0 else 1"
   ]
  },
  {
   "cell_type": "code",
   "execution_count": 161,
   "metadata": {
    "scrolled": true
   },
   "outputs": [
    {
     "name": "stdout",
     "output_type": "stream",
     "text": [
      "Train Labels:  0    1.0\n",
      "1    1.0\n",
      "2    1.0\n",
      "3    1.0\n",
      "4    1.0\n",
      "Name: Label, dtype: float64\n",
      "Test Labels:  0    1.0\n",
      "1    1.0\n",
      "2    1.0\n",
      "3    1.0\n",
      "4    1.0\n",
      "Name: Label, dtype: float64\n"
     ]
    }
   ],
   "source": [
    "train_label = train_label.apply(lambda x: 1.0 if (x == 'Anomaly') else 0.0)\n",
    "test_label = test_label.apply(lambda x: 1.0 if (x == 'Anomaly') else 0.0)\n",
    "print(\"Train Labels: \", train_label.head())\n",
    "print(\"Test Labels: \", train_label.head())"
   ]
  },
  {
   "cell_type": "markdown",
   "metadata": {},
   "source": [
    "## Part B ONLY (Sub Category as Output (Multi Classifier)"
   ]
  },
  {
   "cell_type": "code",
   "execution_count": 150,
   "metadata": {},
   "outputs": [],
   "source": [
    "# Data To Train Our Model with labels\n",
    "train_data, train_label = main_frame.iloc[:-train_length, :85], main_frame.Sub_Cat[:-train_length]\n",
    "\n",
    "# Data to Test Our Model Later\n",
    "test_data, test_label = main_frame.iloc[-train_length:, :85], main_frame.Sub_Cat[-train_length:]"
   ]
  },
  {
   "cell_type": "markdown",
   "metadata": {},
   "source": [
    "### Replacing String with floats"
   ]
  },
  {
   "cell_type": "code",
   "execution_count": 157,
   "metadata": {},
   "outputs": [],
   "source": [
    "train_label = train_label.replace(main_frame.Sub_Cat.unique(), [0.0, 1.0, 2.0, 3.0, 4.0, 5.0, 6.0, 7.0, 8.0])\n",
    "test_label = test_label.replace(main_frame.Sub_Cat.unique(), [0.0, 1.0, 2.0, 3.0, 4.0, 5.0, 6.0, 7.0, 8.0])"
   ]
  },
  {
   "cell_type": "markdown",
   "metadata": {},
   "source": [
    "# Final Training"
   ]
  },
  {
   "cell_type": "markdown",
   "metadata": {},
   "source": [
    "### Converting object and integer data to float"
   ]
  },
  {
   "cell_type": "code",
   "execution_count": 162,
   "metadata": {
    "scrolled": true
   },
   "outputs": [],
   "source": [
    "for i in train_data.columns:\n",
    "    if (train_data[i].dtype == 'object'):\n",
    "        \n",
    "        train_data[i] = train_data[i].apply(string_to_float)\n",
    "        \n",
    "        test_data[i] = test_data[i].apply(string_to_float)\n",
    "    \n",
    "    elif (train_data[i].dtype == 'int64'):\n",
    "    \n",
    "        train_data[i] = train_data[i].apply(lambda x:float(x)/1.0)\n",
    "        \n",
    "        test_data[i] = test_data[i].apply(lambda x:float(x)/1.0)"
   ]
  },
  {
   "cell_type": "markdown",
   "metadata": {},
   "source": [
    "### Naive Bayes"
   ]
  },
  {
   "cell_type": "code",
   "execution_count": 163,
   "metadata": {},
   "outputs": [
    {
     "name": "stderr",
     "output_type": "stream",
     "text": [
      "C:\\ProgramData\\Anaconda3\\lib\\site-packages\\numpy\\core\\fromnumeric.py:90: RuntimeWarning: overflow encountered in reduce\n",
      "  return ufunc.reduce(obj, axis, dtype, out, **passkwargs)\n",
      "C:\\ProgramData\\Anaconda3\\lib\\site-packages\\numpy\\core\\fromnumeric.py:90: RuntimeWarning: overflow encountered in reduce\n",
      "  return ufunc.reduce(obj, axis, dtype, out, **passkwargs)\n",
      "C:\\ProgramData\\Anaconda3\\lib\\site-packages\\numpy\\core\\_methods.py:183: RuntimeWarning: overflow encountered in reduce\n",
      "  arrmean = umr_sum(arr, axis, dtype, keepdims=True)\n",
      "C:\\ProgramData\\Anaconda3\\lib\\site-packages\\numpy\\core\\_methods.py:151: RuntimeWarning: overflow encountered in reduce\n",
      "  ret = umr_sum(arr, axis, dtype, out, keepdims)\n"
     ]
    },
    {
     "data": {
      "text/plain": [
       "GaussianNB()"
      ]
     },
     "execution_count": 163,
     "metadata": {},
     "output_type": "execute_result"
    }
   ],
   "source": [
    "# training the model on training set \n",
    "from sklearn.naive_bayes import GaussianNB \n",
    "gnb = GaussianNB() \n",
    "gnb.fit(np.nan_to_num(train_data), train_label)"
   ]
  },
  {
   "cell_type": "code",
   "execution_count": 164,
   "metadata": {},
   "outputs": [
    {
     "name": "stderr",
     "output_type": "stream",
     "text": [
      "C:\\ProgramData\\Anaconda3\\lib\\site-packages\\numpy\\core\\fromnumeric.py:90: RuntimeWarning: overflow encountered in reduce\n",
      "  return ufunc.reduce(obj, axis, dtype, out, **passkwargs)\n",
      "C:\\ProgramData\\Anaconda3\\lib\\site-packages\\sklearn\\naive_bayes.py:456: RuntimeWarning: overflow encountered in square\n",
      "  n_ij -= 0.5 * np.sum(((X - self.theta_[i, :]) ** 2) /\n",
      "C:\\ProgramData\\Anaconda3\\lib\\site-packages\\sklearn\\naive_bayes.py:456: RuntimeWarning: invalid value encountered in true_divide\n",
      "  n_ij -= 0.5 * np.sum(((X - self.theta_[i, :]) ** 2) /\n"
     ]
    }
   ],
   "source": [
    "# making predictions on the testing set \n",
    "y_pred = gnb.predict(np.nan_to_num(test_data))"
   ]
  },
  {
   "cell_type": "code",
   "execution_count": 165,
   "metadata": {},
   "outputs": [
    {
     "name": "stdout",
     "output_type": "stream",
     "text": [
      "Gaussian Naive Bayes model accuracy(in %): 93.55287180450077\n"
     ]
    }
   ],
   "source": [
    "# comparing actual response values (y_test) with predicted response values (y_pred) \n",
    "from sklearn import metrics \n",
    "print(\"Gaussian Naive Bayes model accuracy(in %):\", metrics.accuracy_score(test_label, y_pred)*100)"
   ]
  },
  {
   "cell_type": "markdown",
   "metadata": {},
   "source": [
    "### Decision Trees"
   ]
  },
  {
   "cell_type": "code",
   "execution_count": 166,
   "metadata": {},
   "outputs": [],
   "source": [
    "# training a DescisionTreeClassifier \n",
    "from sklearn.tree import DecisionTreeClassifier \n",
    "dtree_model = DecisionTreeClassifier(max_depth = 2).fit(np.nan_to_num(train_data.astype('float32')), train_label.astype('float32')) \n",
    "dtree_predictions = dtree_model.predict(np.nan_to_num(test_data.astype('float32')))"
   ]
  },
  {
   "cell_type": "code",
   "execution_count": 167,
   "metadata": {},
   "outputs": [
    {
     "name": "stdout",
     "output_type": "stream",
     "text": [
      "Gaussian Naive Bayes model accuracy(in %): 100.0\n"
     ]
    }
   ],
   "source": [
    "# comparing actual response values (y_test) with predicted response values (y_pred) \n",
    "from sklearn import metrics \n",
    "print(\"Gaussian Naive Bayes model accuracy(in %):\", metrics.accuracy_score(test_label, dtree_predictions)*100)"
   ]
  }
 ],
 "metadata": {
  "colab": {
   "collapsed_sections": [],
   "name": "SP18-BCS-170(A2)-BCS-6B WALEED BUTT.ipynb",
   "provenance": []
  },
  "kernelspec": {
   "display_name": "Python 3",
   "language": "python",
   "name": "python3"
  },
  "language_info": {
   "codemirror_mode": {
    "name": "ipython",
    "version": 3
   },
   "file_extension": ".py",
   "mimetype": "text/x-python",
   "name": "python",
   "nbconvert_exporter": "python",
   "pygments_lexer": "ipython3",
   "version": "3.8.3"
  }
 },
 "nbformat": 4,
 "nbformat_minor": 1
}
