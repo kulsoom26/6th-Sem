{
 "cells": [
  {
   "cell_type": "markdown",
   "metadata": {
    "id": "jvbQvYfIvza9"
   },
   "source": [
    "**Ip Classification using Naive Bayes Classification**\n",
    "---\n",
    "\n",
    "\n",
    "In this Machine learning problem, we will perform classification on some IP addresses to check if they were used to perform an attack.The dataset is a network intrusion dataset that contains information about network packets being transmitted from one location to another. You will see columns with headers like source port, source IP, Destination port and Destination IP etc."
   ]
  },
  {
   "cell_type": "markdown",
   "metadata": {
    "id": "aLXxRJ37xHF4"
   },
   "source": [
    "**Importing Libraries**\n",
    "\n",
    "\n",
    "---\n",
    "First of all we will load all the libraries required in this task in the enviorment. We will we using sklearn library for classification. "
   ]
  },
  {
   "cell_type": "code",
   "execution_count": 29,
   "metadata": {
    "id": "QsjzHzhGKBSI"
   },
   "outputs": [],
   "source": [
    "import pandas as pd\n",
    "import numpy\n",
    "from sklearn import preprocessing\n",
    "from sklearn.naive_bayes import GaussianNB\n",
    "from sklearn import metrics\n",
    "import ipaddress\n",
    "from sklearn.model_selection import train_test_split\n",
    "from sklearn import tree\n",
    "from matplotlib import pyplot as plt"
   ]
  },
  {
   "cell_type": "markdown",
   "metadata": {
    "id": "LjMID_tHx1K4"
   },
   "source": [
    "**Load Data**\n",
    "\n",
    "\n",
    "---\n",
    "We will now load the dataset into our enviorment.\n"
   ]
  },
  {
   "cell_type": "code",
   "execution_count": 30,
   "metadata": {
    "colab": {
     "base_uri": "https://localhost:8080/",
     "height": 423
    },
    "id": "2btOs8DTxlr5",
    "outputId": "1663ee6c-1743-4d9c-c930-c8f09bc88688"
   },
   "outputs": [
    {
     "data": {
      "text/html": [
       "<div>\n",
       "<style scoped>\n",
       "    .dataframe tbody tr th:only-of-type {\n",
       "        vertical-align: middle;\n",
       "    }\n",
       "\n",
       "    .dataframe tbody tr th {\n",
       "        vertical-align: top;\n",
       "    }\n",
       "\n",
       "    .dataframe thead th {\n",
       "        text-align: right;\n",
       "    }\n",
       "</style>\n",
       "<table border=\"1\" class=\"dataframe\">\n",
       "  <thead>\n",
       "    <tr style=\"text-align: right;\">\n",
       "      <th></th>\n",
       "      <th>Flow_ID</th>\n",
       "      <th>Src_IP</th>\n",
       "      <th>Src_Port</th>\n",
       "      <th>Dst_IP</th>\n",
       "      <th>Dst_Port</th>\n",
       "      <th>Protocol</th>\n",
       "      <th>Timestamp</th>\n",
       "      <th>Flow_Duration</th>\n",
       "      <th>Tot_Fwd_Pkts</th>\n",
       "      <th>Tot_Bwd_Pkts</th>\n",
       "      <th>TotLen_Fwd_Pkts</th>\n",
       "      <th>TotLen_Bwd_Pkts</th>\n",
       "      <th>Fwd_Pkt_Len_Max</th>\n",
       "      <th>Fwd_Pkt_Len_Min</th>\n",
       "      <th>Fwd_Pkt_Len_Mean</th>\n",
       "      <th>Fwd_Pkt_Len_Std</th>\n",
       "      <th>Bwd_Pkt_Len_Max</th>\n",
       "      <th>Bwd_Pkt_Len_Min</th>\n",
       "      <th>Bwd_Pkt_Len_Mean</th>\n",
       "      <th>Bwd_Pkt_Len_Std</th>\n",
       "      <th>Flow_Byts/s</th>\n",
       "      <th>Flow_Pkts/s</th>\n",
       "      <th>Flow_IAT_Mean</th>\n",
       "      <th>Flow_IAT_Std</th>\n",
       "      <th>Flow_IAT_Max</th>\n",
       "      <th>Flow_IAT_Min</th>\n",
       "      <th>Fwd_IAT_Tot</th>\n",
       "      <th>Fwd_IAT_Mean</th>\n",
       "      <th>Bwd_IAT_Mean</th>\n",
       "      <th>Fwd_IAT_Max</th>\n",
       "      <th>Fwd_IAT_Min</th>\n",
       "      <th>Bwd_IAT_Tot</th>\n",
       "      <th>Bwd_IAT_Mean.1</th>\n",
       "      <th>Bwd_IAT_Std</th>\n",
       "      <th>Bwd_IAT_Max</th>\n",
       "      <th>Bwd_IAT_Min</th>\n",
       "      <th>Fwd_PSH_Flags</th>\n",
       "      <th>Bwd_PSH_Flags</th>\n",
       "      <th>Fwd_URG_Flags</th>\n",
       "      <th>Bwd_URG_Flags</th>\n",
       "      <th>...</th>\n",
       "      <th>Pkt_Len_Mean</th>\n",
       "      <th>Pkt_Len_Std</th>\n",
       "      <th>Pkt_Len_Var</th>\n",
       "      <th>FIN_Flag_Cnt</th>\n",
       "      <th>SYN_Flag_Cnt</th>\n",
       "      <th>RST_Flag_Cnt</th>\n",
       "      <th>PSH_Flag_Cnt</th>\n",
       "      <th>ACK_Flag_Cnt</th>\n",
       "      <th>URG_Flag_Cnt</th>\n",
       "      <th>CWE_Flag_Count</th>\n",
       "      <th>ECE_Flag_Cnt</th>\n",
       "      <th>Down/Up_Ratio</th>\n",
       "      <th>Pkt_Size_Avg</th>\n",
       "      <th>Fwd_Seg_Size_Avg</th>\n",
       "      <th>Bwd_Seg_Size_Avg</th>\n",
       "      <th>Fwd_Byts/b_Avg</th>\n",
       "      <th>Fwd_Pkts/b_Avg</th>\n",
       "      <th>Fwd_Blk_Rate_Avg</th>\n",
       "      <th>Bwd_Byts/b_Avg</th>\n",
       "      <th>Bwd_Pkts/b_Avg</th>\n",
       "      <th>Bwd_Blk_Rate_Avg</th>\n",
       "      <th>Subflow_Fwd_Pkts</th>\n",
       "      <th>Subflow_Fwd_Byts</th>\n",
       "      <th>Subflow_Bwd_Pkts</th>\n",
       "      <th>Subflow_Bwd_Byts</th>\n",
       "      <th>Init_Fwd_Win_Byts</th>\n",
       "      <th>Init_Bwd_Win_Byts</th>\n",
       "      <th>Fwd_Act_Data_Pkts</th>\n",
       "      <th>Fwd_Seg_Size_Min</th>\n",
       "      <th>Active_Mean</th>\n",
       "      <th>Active_Std</th>\n",
       "      <th>Active_Max</th>\n",
       "      <th>Active_Min</th>\n",
       "      <th>Idle_Mean</th>\n",
       "      <th>Idle_Std</th>\n",
       "      <th>Idle_Max</th>\n",
       "      <th>Idle_Min</th>\n",
       "      <th>Label</th>\n",
       "      <th>Cat</th>\n",
       "      <th>Sub_Cat</th>\n",
       "    </tr>\n",
       "  </thead>\n",
       "  <tbody>\n",
       "    <tr>\n",
       "      <th>0</th>\n",
       "      <td>192.168.0.13-192.168.0.16-10000-10101-17</td>\n",
       "      <td>192.168.0.13</td>\n",
       "      <td>10000</td>\n",
       "      <td>192.168.0.16</td>\n",
       "      <td>10101</td>\n",
       "      <td>17</td>\n",
       "      <td>25/07/2019 03:25:53 AM</td>\n",
       "      <td>75</td>\n",
       "      <td>1</td>\n",
       "      <td>1</td>\n",
       "      <td>982.0</td>\n",
       "      <td>1430.0</td>\n",
       "      <td>982.0</td>\n",
       "      <td>982.0</td>\n",
       "      <td>982.0</td>\n",
       "      <td>0.000000</td>\n",
       "      <td>1430.0</td>\n",
       "      <td>1430.0</td>\n",
       "      <td>1430.000000</td>\n",
       "      <td>0.000000</td>\n",
       "      <td>3.216000e+07</td>\n",
       "      <td>26666.666667</td>\n",
       "      <td>75.0</td>\n",
       "      <td>0.000000</td>\n",
       "      <td>75.0</td>\n",
       "      <td>75.0</td>\n",
       "      <td>0.0</td>\n",
       "      <td>0.0</td>\n",
       "      <td>0.0</td>\n",
       "      <td>0.0</td>\n",
       "      <td>0.0</td>\n",
       "      <td>0.0</td>\n",
       "      <td>0.0</td>\n",
       "      <td>0.000000</td>\n",
       "      <td>0.0</td>\n",
       "      <td>0.0</td>\n",
       "      <td>0</td>\n",
       "      <td>0</td>\n",
       "      <td>0</td>\n",
       "      <td>0</td>\n",
       "      <td>...</td>\n",
       "      <td>1280.666667</td>\n",
       "      <td>258.652921</td>\n",
       "      <td>66901.333333</td>\n",
       "      <td>0</td>\n",
       "      <td>0</td>\n",
       "      <td>0</td>\n",
       "      <td>0</td>\n",
       "      <td>0</td>\n",
       "      <td>0</td>\n",
       "      <td>0</td>\n",
       "      <td>0</td>\n",
       "      <td>1.0</td>\n",
       "      <td>1921.000000</td>\n",
       "      <td>982.0</td>\n",
       "      <td>1430.000000</td>\n",
       "      <td>0</td>\n",
       "      <td>0</td>\n",
       "      <td>0</td>\n",
       "      <td>0</td>\n",
       "      <td>0</td>\n",
       "      <td>0</td>\n",
       "      <td>1</td>\n",
       "      <td>982</td>\n",
       "      <td>1</td>\n",
       "      <td>1430</td>\n",
       "      <td>-1</td>\n",
       "      <td>-1</td>\n",
       "      <td>1</td>\n",
       "      <td>0</td>\n",
       "      <td>0.0</td>\n",
       "      <td>0.0</td>\n",
       "      <td>0.0</td>\n",
       "      <td>0.0</td>\n",
       "      <td>75.0</td>\n",
       "      <td>0.000000</td>\n",
       "      <td>75.0</td>\n",
       "      <td>75.0</td>\n",
       "      <td>Anomaly</td>\n",
       "      <td>Mirai</td>\n",
       "      <td>Mirai-Ackflooding</td>\n",
       "    </tr>\n",
       "    <tr>\n",
       "      <th>1</th>\n",
       "      <td>192.168.0.13-222.160.179.132-554-2179-6</td>\n",
       "      <td>222.160.179.132</td>\n",
       "      <td>2179</td>\n",
       "      <td>192.168.0.13</td>\n",
       "      <td>554</td>\n",
       "      <td>6</td>\n",
       "      <td>26/05/2019 10:11:06 PM</td>\n",
       "      <td>5310</td>\n",
       "      <td>1</td>\n",
       "      <td>2</td>\n",
       "      <td>0.0</td>\n",
       "      <td>0.0</td>\n",
       "      <td>0.0</td>\n",
       "      <td>0.0</td>\n",
       "      <td>0.0</td>\n",
       "      <td>0.000000</td>\n",
       "      <td>0.0</td>\n",
       "      <td>0.0</td>\n",
       "      <td>0.000000</td>\n",
       "      <td>0.000000</td>\n",
       "      <td>0.000000e+00</td>\n",
       "      <td>564.971751</td>\n",
       "      <td>2655.0</td>\n",
       "      <td>2261.327486</td>\n",
       "      <td>4254.0</td>\n",
       "      <td>1056.0</td>\n",
       "      <td>0.0</td>\n",
       "      <td>0.0</td>\n",
       "      <td>0.0</td>\n",
       "      <td>0.0</td>\n",
       "      <td>0.0</td>\n",
       "      <td>5310.0</td>\n",
       "      <td>5310.0</td>\n",
       "      <td>0.000000</td>\n",
       "      <td>5310.0</td>\n",
       "      <td>5310.0</td>\n",
       "      <td>0</td>\n",
       "      <td>0</td>\n",
       "      <td>0</td>\n",
       "      <td>0</td>\n",
       "      <td>...</td>\n",
       "      <td>0.000000</td>\n",
       "      <td>0.000000</td>\n",
       "      <td>0.000000</td>\n",
       "      <td>0</td>\n",
       "      <td>1</td>\n",
       "      <td>0</td>\n",
       "      <td>0</td>\n",
       "      <td>0</td>\n",
       "      <td>0</td>\n",
       "      <td>0</td>\n",
       "      <td>0</td>\n",
       "      <td>2.0</td>\n",
       "      <td>0.000000</td>\n",
       "      <td>0.0</td>\n",
       "      <td>0.000000</td>\n",
       "      <td>0</td>\n",
       "      <td>0</td>\n",
       "      <td>0</td>\n",
       "      <td>0</td>\n",
       "      <td>0</td>\n",
       "      <td>0</td>\n",
       "      <td>1</td>\n",
       "      <td>0</td>\n",
       "      <td>2</td>\n",
       "      <td>0</td>\n",
       "      <td>-1</td>\n",
       "      <td>14600</td>\n",
       "      <td>0</td>\n",
       "      <td>0</td>\n",
       "      <td>0.0</td>\n",
       "      <td>0.0</td>\n",
       "      <td>0.0</td>\n",
       "      <td>0.0</td>\n",
       "      <td>2655.0</td>\n",
       "      <td>2261.327486</td>\n",
       "      <td>4254.0</td>\n",
       "      <td>1056.0</td>\n",
       "      <td>Anomaly</td>\n",
       "      <td>DoS</td>\n",
       "      <td>DoS-Synflooding</td>\n",
       "    </tr>\n",
       "    <tr>\n",
       "      <th>2</th>\n",
       "      <td>192.168.0.13-192.168.0.16-9020-52727-6</td>\n",
       "      <td>192.168.0.16</td>\n",
       "      <td>52727</td>\n",
       "      <td>192.168.0.13</td>\n",
       "      <td>9020</td>\n",
       "      <td>6</td>\n",
       "      <td>11/07/2019 01:24:48 AM</td>\n",
       "      <td>141</td>\n",
       "      <td>0</td>\n",
       "      <td>3</td>\n",
       "      <td>0.0</td>\n",
       "      <td>2806.0</td>\n",
       "      <td>0.0</td>\n",
       "      <td>0.0</td>\n",
       "      <td>0.0</td>\n",
       "      <td>0.000000</td>\n",
       "      <td>1388.0</td>\n",
       "      <td>30.0</td>\n",
       "      <td>935.333333</td>\n",
       "      <td>784.041666</td>\n",
       "      <td>1.990071e+07</td>\n",
       "      <td>21276.595745</td>\n",
       "      <td>70.5</td>\n",
       "      <td>0.707107</td>\n",
       "      <td>71.0</td>\n",
       "      <td>70.0</td>\n",
       "      <td>0.0</td>\n",
       "      <td>0.0</td>\n",
       "      <td>0.0</td>\n",
       "      <td>0.0</td>\n",
       "      <td>0.0</td>\n",
       "      <td>141.0</td>\n",
       "      <td>70.5</td>\n",
       "      <td>0.707107</td>\n",
       "      <td>71.0</td>\n",
       "      <td>70.0</td>\n",
       "      <td>0</td>\n",
       "      <td>0</td>\n",
       "      <td>0</td>\n",
       "      <td>0</td>\n",
       "      <td>...</td>\n",
       "      <td>1048.500000</td>\n",
       "      <td>679.000000</td>\n",
       "      <td>461041.000000</td>\n",
       "      <td>0</td>\n",
       "      <td>0</td>\n",
       "      <td>0</td>\n",
       "      <td>0</td>\n",
       "      <td>1</td>\n",
       "      <td>0</td>\n",
       "      <td>0</td>\n",
       "      <td>0</td>\n",
       "      <td>0.0</td>\n",
       "      <td>1398.000000</td>\n",
       "      <td>0.0</td>\n",
       "      <td>935.333333</td>\n",
       "      <td>0</td>\n",
       "      <td>0</td>\n",
       "      <td>0</td>\n",
       "      <td>0</td>\n",
       "      <td>0</td>\n",
       "      <td>0</td>\n",
       "      <td>0</td>\n",
       "      <td>0</td>\n",
       "      <td>3</td>\n",
       "      <td>2806</td>\n",
       "      <td>-1</td>\n",
       "      <td>1869</td>\n",
       "      <td>0</td>\n",
       "      <td>0</td>\n",
       "      <td>0.0</td>\n",
       "      <td>0.0</td>\n",
       "      <td>0.0</td>\n",
       "      <td>0.0</td>\n",
       "      <td>70.5</td>\n",
       "      <td>0.707107</td>\n",
       "      <td>71.0</td>\n",
       "      <td>70.0</td>\n",
       "      <td>Anomaly</td>\n",
       "      <td>Scan</td>\n",
       "      <td>Scan Port OS</td>\n",
       "    </tr>\n",
       "    <tr>\n",
       "      <th>3</th>\n",
       "      <td>192.168.0.13-192.168.0.16-9020-52964-6</td>\n",
       "      <td>192.168.0.16</td>\n",
       "      <td>52964</td>\n",
       "      <td>192.168.0.13</td>\n",
       "      <td>9020</td>\n",
       "      <td>6</td>\n",
       "      <td>04/09/2019 03:58:17 AM</td>\n",
       "      <td>151</td>\n",
       "      <td>0</td>\n",
       "      <td>2</td>\n",
       "      <td>0.0</td>\n",
       "      <td>2776.0</td>\n",
       "      <td>0.0</td>\n",
       "      <td>0.0</td>\n",
       "      <td>0.0</td>\n",
       "      <td>0.000000</td>\n",
       "      <td>1388.0</td>\n",
       "      <td>1388.0</td>\n",
       "      <td>1388.000000</td>\n",
       "      <td>0.000000</td>\n",
       "      <td>1.838411e+07</td>\n",
       "      <td>13245.033113</td>\n",
       "      <td>151.0</td>\n",
       "      <td>0.000000</td>\n",
       "      <td>151.0</td>\n",
       "      <td>151.0</td>\n",
       "      <td>0.0</td>\n",
       "      <td>0.0</td>\n",
       "      <td>0.0</td>\n",
       "      <td>0.0</td>\n",
       "      <td>0.0</td>\n",
       "      <td>151.0</td>\n",
       "      <td>151.0</td>\n",
       "      <td>0.000000</td>\n",
       "      <td>151.0</td>\n",
       "      <td>151.0</td>\n",
       "      <td>0</td>\n",
       "      <td>0</td>\n",
       "      <td>0</td>\n",
       "      <td>0</td>\n",
       "      <td>...</td>\n",
       "      <td>1388.000000</td>\n",
       "      <td>0.000000</td>\n",
       "      <td>0.000000</td>\n",
       "      <td>0</td>\n",
       "      <td>0</td>\n",
       "      <td>0</td>\n",
       "      <td>0</td>\n",
       "      <td>1</td>\n",
       "      <td>0</td>\n",
       "      <td>0</td>\n",
       "      <td>0</td>\n",
       "      <td>0.0</td>\n",
       "      <td>2082.000000</td>\n",
       "      <td>0.0</td>\n",
       "      <td>1388.000000</td>\n",
       "      <td>0</td>\n",
       "      <td>0</td>\n",
       "      <td>0</td>\n",
       "      <td>0</td>\n",
       "      <td>0</td>\n",
       "      <td>0</td>\n",
       "      <td>0</td>\n",
       "      <td>0</td>\n",
       "      <td>2</td>\n",
       "      <td>2776</td>\n",
       "      <td>-1</td>\n",
       "      <td>1869</td>\n",
       "      <td>0</td>\n",
       "      <td>0</td>\n",
       "      <td>0.0</td>\n",
       "      <td>0.0</td>\n",
       "      <td>0.0</td>\n",
       "      <td>0.0</td>\n",
       "      <td>151.0</td>\n",
       "      <td>0.000000</td>\n",
       "      <td>151.0</td>\n",
       "      <td>151.0</td>\n",
       "      <td>Anomaly</td>\n",
       "      <td>Mirai</td>\n",
       "      <td>Mirai-Hostbruteforceg</td>\n",
       "    </tr>\n",
       "    <tr>\n",
       "      <th>4</th>\n",
       "      <td>192.168.0.1-239.255.255.250-36763-1900-17</td>\n",
       "      <td>192.168.0.1</td>\n",
       "      <td>36763</td>\n",
       "      <td>239.255.255.250</td>\n",
       "      <td>1900</td>\n",
       "      <td>17</td>\n",
       "      <td>10/09/2019 01:41:18 AM</td>\n",
       "      <td>153</td>\n",
       "      <td>2</td>\n",
       "      <td>1</td>\n",
       "      <td>886.0</td>\n",
       "      <td>420.0</td>\n",
       "      <td>452.0</td>\n",
       "      <td>434.0</td>\n",
       "      <td>443.0</td>\n",
       "      <td>12.727922</td>\n",
       "      <td>420.0</td>\n",
       "      <td>420.0</td>\n",
       "      <td>420.000000</td>\n",
       "      <td>0.000000</td>\n",
       "      <td>8.535948e+06</td>\n",
       "      <td>19607.843137</td>\n",
       "      <td>76.5</td>\n",
       "      <td>0.707107</td>\n",
       "      <td>77.0</td>\n",
       "      <td>76.0</td>\n",
       "      <td>76.0</td>\n",
       "      <td>76.0</td>\n",
       "      <td>0.0</td>\n",
       "      <td>76.0</td>\n",
       "      <td>76.0</td>\n",
       "      <td>0.0</td>\n",
       "      <td>0.0</td>\n",
       "      <td>0.000000</td>\n",
       "      <td>0.0</td>\n",
       "      <td>0.0</td>\n",
       "      <td>0</td>\n",
       "      <td>0</td>\n",
       "      <td>0</td>\n",
       "      <td>0</td>\n",
       "      <td>...</td>\n",
       "      <td>431.500000</td>\n",
       "      <td>15.176737</td>\n",
       "      <td>230.333333</td>\n",
       "      <td>0</td>\n",
       "      <td>0</td>\n",
       "      <td>0</td>\n",
       "      <td>0</td>\n",
       "      <td>0</td>\n",
       "      <td>0</td>\n",
       "      <td>0</td>\n",
       "      <td>0</td>\n",
       "      <td>0.0</td>\n",
       "      <td>575.333333</td>\n",
       "      <td>443.0</td>\n",
       "      <td>420.000000</td>\n",
       "      <td>0</td>\n",
       "      <td>0</td>\n",
       "      <td>0</td>\n",
       "      <td>0</td>\n",
       "      <td>0</td>\n",
       "      <td>0</td>\n",
       "      <td>2</td>\n",
       "      <td>886</td>\n",
       "      <td>1</td>\n",
       "      <td>420</td>\n",
       "      <td>-1</td>\n",
       "      <td>-1</td>\n",
       "      <td>2</td>\n",
       "      <td>0</td>\n",
       "      <td>0.0</td>\n",
       "      <td>0.0</td>\n",
       "      <td>0.0</td>\n",
       "      <td>0.0</td>\n",
       "      <td>76.5</td>\n",
       "      <td>0.707107</td>\n",
       "      <td>77.0</td>\n",
       "      <td>76.0</td>\n",
       "      <td>Anomaly</td>\n",
       "      <td>Mirai</td>\n",
       "      <td>Mirai-Hostbruteforceg</td>\n",
       "    </tr>\n",
       "  </tbody>\n",
       "</table>\n",
       "<p>5 rows × 86 columns</p>\n",
       "</div>"
      ],
      "text/plain": [
       "                                     Flow_ID  ...                Sub_Cat\n",
       "0   192.168.0.13-192.168.0.16-10000-10101-17  ...      Mirai-Ackflooding\n",
       "1    192.168.0.13-222.160.179.132-554-2179-6  ...        DoS-Synflooding\n",
       "2     192.168.0.13-192.168.0.16-9020-52727-6  ...           Scan Port OS\n",
       "3     192.168.0.13-192.168.0.16-9020-52964-6  ...  Mirai-Hostbruteforceg\n",
       "4  192.168.0.1-239.255.255.250-36763-1900-17  ...  Mirai-Hostbruteforceg\n",
       "\n",
       "[5 rows x 86 columns]"
      ]
     },
     "execution_count": 30,
     "metadata": {
      "tags": []
     },
     "output_type": "execute_result"
    }
   ],
   "source": [
    "data = pd.read_csv('/content/drive/My Drive/Colab Notebooks/IoT Intrusion Dataset 2020.csv')\n",
    "data.head()"
   ]
  },
  {
   "cell_type": "markdown",
   "metadata": {
    "id": "HtODnLyJyZVE"
   },
   "source": [
    "**Changing the data type for Ip addresses**\n",
    "\n",
    "\n",
    "---\n",
    "The ip addresses are given in string format in the dataset. For using them as our feature data, we need to convert them into int or float data types.\n",
    "First we will convert the Source ip's into int format using ipaddress library. \n"
   ]
  },
  {
   "cell_type": "code",
   "execution_count": 31,
   "metadata": {
    "id": "A1eKFy-bsUrB"
   },
   "outputs": [],
   "source": [
    "arr= data['Src_IP'].values\n",
    "for x in range(len(arr)):\n",
    "  arr[x] = int(ipaddress.ip_address(arr[x]))\n",
    "data['Src_IP'] = arr"
   ]
  },
  {
   "cell_type": "markdown",
   "metadata": {
    "id": "fndHZeLeyZ6g"
   },
   "source": [
    "Now the same for Destination Ip's."
   ]
  },
  {
   "cell_type": "code",
   "execution_count": 32,
   "metadata": {
    "id": "k7scIuBMuGHi"
   },
   "outputs": [],
   "source": [
    "arr= data['Dst_IP'].values\n",
    "for x in range(len(arr)):\n",
    "  arr[x] = int(ipaddress.ip_address(arr[x]))\n",
    "data['Dst_IP'] = arr"
   ]
  },
  {
   "cell_type": "markdown",
   "metadata": {
    "id": "N769JiB_zUT-"
   },
   "source": [
    "Now, we can see that the ip addresses are converted into integer values."
   ]
  },
  {
   "cell_type": "code",
   "execution_count": 33,
   "metadata": {
    "colab": {
     "base_uri": "https://localhost:8080/"
    },
    "id": "GuQESs77ttWF",
    "outputId": "5294178b-1fe1-4feb-9376-1d9ed8699deb"
   },
   "outputs": [
    {
     "data": {
      "text/plain": [
       "0         3232235536\n",
       "1         3232235533\n",
       "2         3232235533\n",
       "3         3232235533\n",
       "4         4026531834\n",
       "             ...    \n",
       "625778    3529090138\n",
       "625779    3232235533\n",
       "625780    3232235533\n",
       "625781    3232235536\n",
       "625782    3232235536\n",
       "Name: Dst_IP, Length: 625783, dtype: object"
      ]
     },
     "execution_count": 33,
     "metadata": {
      "tags": []
     },
     "output_type": "execute_result"
    }
   ],
   "source": [
    "data['Src_IP']\n",
    "data['Dst_IP']"
   ]
  },
  {
   "cell_type": "markdown",
   "metadata": {
    "id": "EEzzUrdAzaeH"
   },
   "source": [
    "**Choosing Feature and Label Values**\n",
    "\n",
    "---\n",
    "This dataset has more than 80 feature values but for this task, we will need only some of them for classification purpose namely: Source IP, Source Port,Destination IP,Destination Port, Protocol and Flow Duration.\n",
    "For current task we will be using the Label feature as our data label. Which makes this a binary classification problem as our outputs will be just Normal or Anomaly. \n",
    "However later we will choose Sub categories feature as our label which will make it a multi classification task as well. \n"
   ]
  },
  {
   "cell_type": "code",
   "execution_count": 34,
   "metadata": {
    "id": "DbJbqW0CS33G"
   },
   "outputs": [],
   "source": [
    "X= data[['Src_IP','Src_Port','Dst_IP','Dst_Port','Protocol','Flow_Duration']]\n",
    "y = data['Label']"
   ]
  },
  {
   "cell_type": "markdown",
   "metadata": {
    "id": "UDRpfFbncw6l"
   },
   "source": [
    "### **Dimension Reduction**\n",
    "\n",
    "\n",
    "---\n",
    "In this part we will apply some dimension reduction techniques to our data to make the results more accurate. \n",
    "\n"
   ]
  },
  {
   "cell_type": "markdown",
   "metadata": {
    "id": "6iScdjfU3j0d"
   },
   "source": [
    "**Principle component analysis (PCA)**\n",
    "\n",
    "\n",
    "---\n",
    "\n"
   ]
  },
  {
   "cell_type": "markdown",
   "metadata": {
    "id": "O7B5uGW_F3_M"
   },
   "source": [
    "PCA is a technique which helps us in extracting a new set of variables from an existing large set of variables. These newly extracted variables are called Principal Components."
   ]
  },
  {
   "cell_type": "code",
   "execution_count": 35,
   "metadata": {
    "colab": {
     "base_uri": "https://localhost:8080/",
     "height": 296
    },
    "id": "maC-incNkmhf",
    "outputId": "660fee8f-8625-4845-ac55-a1eabb567557"
   },
   "outputs": [
    {
     "data": {
      "text/plain": [
       "Text(0.5, 1.0, 'Component-wise and Cumulative Explained Variance')"
      ]
     },
     "execution_count": 35,
     "metadata": {
      "tags": []
     },
     "output_type": "execute_result"
    },
    {
     "data": {
      "image/png": "[encoded data removed]",
      "text/plain": [
       "<Figure size 432x288 with 1 Axes>"
      ]
     },
     "metadata": {
      "needs_background": "light",
      "tags": []
     },
     "output_type": "display_data"
    }
   ],
   "source": [
    "from sklearn.decomposition import PCA\n",
    "pca = PCA(n_components=2)\n",
    "pca_result = pca.fit_transform(X.values)\n",
    "plt.plot(range(2), pca.explained_variance_ratio_)\n",
    "plt.plot(range(2), numpy.cumsum(pca.explained_variance_ratio_))\n",
    "plt.title(\"Component-wise and Cumulative Explained Variance\")"
   ]
  },
  {
   "cell_type": "markdown",
   "metadata": {
    "id": "jRuew2dbXtlf"
   },
   "source": [
    "In this case, we don’t see any lift in model performance in using the PCA transform."
   ]
  },
  {
   "cell_type": "markdown",
   "metadata": {
    "id": "CDmq17pI3e20"
   },
   "source": [
    "**Singular value decomposition (SVD)**\n",
    "\n",
    "\n",
    "---\n",
    "\n"
   ]
  },
  {
   "cell_type": "markdown",
   "metadata": {
    "id": "ZL4gVb4OGEbD"
   },
   "source": [
    "Singular Value Decomposition, or SVD, is one of the most popular techniques for dimensionality reduction for sparse data (data with many zero values)."
   ]
  },
  {
   "cell_type": "code",
   "execution_count": 36,
   "metadata": {
    "colab": {
     "base_uri": "https://localhost:8080/",
     "height": 526
    },
    "id": "A7xsYVZEpeFy",
    "outputId": "13a067f9-f755-42d3-8f86-46c1ec5162c3"
   },
   "outputs": [
    {
     "data": {
      "text/plain": [
       "<matplotlib.collections.PathCollection at 0x7fb1c9050208>"
      ]
     },
     "execution_count": 36,
     "metadata": {
      "tags": []
     },
     "output_type": "execute_result"
    },
    {
     "data": {
      "image/png": "[encoded data removed]",
      "text/plain": [
       "<Figure size 864x576 with 1 Axes>"
      ]
     },
     "metadata": {
      "needs_background": "light",
      "tags": []
     },
     "output_type": "display_data"
    }
   ],
   "source": [
    "from sklearn.decomposition import TruncatedSVD \n",
    "svd = TruncatedSVD(n_components=3, random_state=42).fit_transform(X.values)\n",
    "plt.figure(figsize=(12,8))\n",
    "plt.title('SVD Components')\n",
    "plt.scatter(svd[:,0], svd[:,1])\n",
    "plt.scatter(svd[:,1], svd[:,2])\n",
    "plt.scatter(svd[:,2],svd[:,0])"
   ]
  },
  {
   "cell_type": "markdown",
   "metadata": {
    "id": "z1iDDWhLD64B"
   },
   "source": [
    "The above scatter plot shows us the decomposed components very neatly. Which shows that there is not much correlation between these components."
   ]
  },
  {
   "cell_type": "markdown",
   "metadata": {
    "id": "FgA3jN_wdhdL"
   },
   "source": [
    "**Factor Analysis**\n",
    "\n",
    "\n",
    "---\n",
    "\n"
   ]
  },
  {
   "cell_type": "code",
   "execution_count": 37,
   "metadata": {
    "colab": {
     "base_uri": "https://localhost:8080/",
     "height": 513
    },
    "id": "McVqHfUUdtpH",
    "outputId": "42b3e9a8-9b11-4968-cca0-1bc3fc8a15e1"
   },
   "outputs": [
    {
     "data": {
      "text/plain": [
       "<matplotlib.collections.PathCollection at 0x7fb1c9016630>"
      ]
     },
     "execution_count": 37,
     "metadata": {
      "tags": []
     },
     "output_type": "execute_result"
    },
    {
     "data": {
      "image/png": "[encoded data removed]",
      "text/plain": [
       "<Figure size 864x576 with 1 Axes>"
      ]
     },
     "metadata": {
      "needs_background": "light",
      "tags": []
     },
     "output_type": "display_data"
    }
   ],
   "source": [
    "from sklearn.decomposition import FactorAnalysis\n",
    "FA = FactorAnalysis(n_components = 3).fit_transform(X.values)\n",
    "#%matplotlib inline\n",
    "\n",
    "plt.figure(figsize=(12,8))\n",
    "plt.title('Factor Analysis Components')\n",
    "plt.scatter(FA[:,0], FA[:,1])\n",
    "plt.scatter(FA[:,1], FA[:,2])\n",
    "plt.scatter(FA[:,2],FA[:,0])"
   ]
  },
  {
   "cell_type": "markdown",
   "metadata": {
    "id": "Zpm033H0DkSU"
   },
   "source": [
    "We can see all the different factors in the above graph. Here, the x-axis and y-axis represent the values of decomposed factors. It is hard to observe these factors individually but we have been able to reduce the dimensions of our data successfully."
   ]
  },
  {
   "cell_type": "markdown",
   "metadata": {
    "id": "xGRoFeRE-05m"
   },
   "source": [
    "**Forward Feature Selection**\n",
    "\n",
    "\n",
    "---\n",
    "\n"
   ]
  },
  {
   "cell_type": "code",
   "execution_count": 38,
   "metadata": {
    "colab": {
     "base_uri": "https://localhost:8080/"
    },
    "id": "A2rg5eDThD9K",
    "outputId": "cfe93c2c-f9b5-4494-9b38-1e350b57cf1c"
   },
   "outputs": [
    {
     "name": "stdout",
     "output_type": "stream",
     "text": [
      "['Src_IP', 'Src_Port', 'Dst_IP', 'Dst_Port', 'Protocol']\n"
     ]
    }
   ],
   "source": [
    "from sklearn.feature_selection import f_regression\n",
    "ffs = f_regression(X,X.Protocol)\n",
    "variable = [ ]\n",
    "for i in range(0,len(X.columns)-1):\n",
    "    if ffs[0][i] >=10:\n",
    "       variable.append(X.columns[i])\n",
    "\n",
    "print(variable)\n"
   ]
  },
  {
   "cell_type": "markdown",
   "metadata": {
    "id": "J2eZ2EedEv0P"
   },
   "source": [
    "The above code gives us the list of variables that have a variance greater than 10. So, as we can see that Flow_duration is missing from these values, we need to drop it."
   ]
  },
  {
   "cell_type": "code",
   "execution_count": 39,
   "metadata": {
    "colab": {
     "base_uri": "https://localhost:8080/",
     "height": 419
    },
    "id": "iPXNY97sBycg",
    "outputId": "4afe827f-c211-45ab-b386-4f598569fc82"
   },
   "outputs": [
    {
     "data": {
      "text/html": [
       "<div>\n",
       "<style scoped>\n",
       "    .dataframe tbody tr th:only-of-type {\n",
       "        vertical-align: middle;\n",
       "    }\n",
       "\n",
       "    .dataframe tbody tr th {\n",
       "        vertical-align: top;\n",
       "    }\n",
       "\n",
       "    .dataframe thead th {\n",
       "        text-align: right;\n",
       "    }\n",
       "</style>\n",
       "<table border=\"1\" class=\"dataframe\">\n",
       "  <thead>\n",
       "    <tr style=\"text-align: right;\">\n",
       "      <th></th>\n",
       "      <th>Src_IP</th>\n",
       "      <th>Src_Port</th>\n",
       "      <th>Dst_IP</th>\n",
       "      <th>Dst_Port</th>\n",
       "      <th>Protocol</th>\n",
       "    </tr>\n",
       "  </thead>\n",
       "  <tbody>\n",
       "    <tr>\n",
       "      <th>0</th>\n",
       "      <td>3232235533</td>\n",
       "      <td>10000</td>\n",
       "      <td>3232235536</td>\n",
       "      <td>10101</td>\n",
       "      <td>17</td>\n",
       "    </tr>\n",
       "    <tr>\n",
       "      <th>1</th>\n",
       "      <td>3735073668</td>\n",
       "      <td>2179</td>\n",
       "      <td>3232235533</td>\n",
       "      <td>554</td>\n",
       "      <td>6</td>\n",
       "    </tr>\n",
       "    <tr>\n",
       "      <th>2</th>\n",
       "      <td>3232235536</td>\n",
       "      <td>52727</td>\n",
       "      <td>3232235533</td>\n",
       "      <td>9020</td>\n",
       "      <td>6</td>\n",
       "    </tr>\n",
       "    <tr>\n",
       "      <th>3</th>\n",
       "      <td>3232235536</td>\n",
       "      <td>52964</td>\n",
       "      <td>3232235533</td>\n",
       "      <td>9020</td>\n",
       "      <td>6</td>\n",
       "    </tr>\n",
       "    <tr>\n",
       "      <th>4</th>\n",
       "      <td>3232235521</td>\n",
       "      <td>36763</td>\n",
       "      <td>4026531834</td>\n",
       "      <td>1900</td>\n",
       "      <td>17</td>\n",
       "    </tr>\n",
       "    <tr>\n",
       "      <th>...</th>\n",
       "      <td>...</td>\n",
       "      <td>...</td>\n",
       "      <td>...</td>\n",
       "      <td>...</td>\n",
       "      <td>...</td>\n",
       "    </tr>\n",
       "    <tr>\n",
       "      <th>625778</th>\n",
       "      <td>3232235544</td>\n",
       "      <td>56112</td>\n",
       "      <td>3529090138</td>\n",
       "      <td>8043</td>\n",
       "      <td>17</td>\n",
       "    </tr>\n",
       "    <tr>\n",
       "      <th>625779</th>\n",
       "      <td>3733171188</td>\n",
       "      <td>4570</td>\n",
       "      <td>3232235533</td>\n",
       "      <td>554</td>\n",
       "      <td>6</td>\n",
       "    </tr>\n",
       "    <tr>\n",
       "      <th>625780</th>\n",
       "      <td>3232235536</td>\n",
       "      <td>52739</td>\n",
       "      <td>3232235533</td>\n",
       "      <td>9020</td>\n",
       "      <td>6</td>\n",
       "    </tr>\n",
       "    <tr>\n",
       "      <th>625781</th>\n",
       "      <td>3232235533</td>\n",
       "      <td>9020</td>\n",
       "      <td>3232235536</td>\n",
       "      <td>49784</td>\n",
       "      <td>6</td>\n",
       "    </tr>\n",
       "    <tr>\n",
       "      <th>625782</th>\n",
       "      <td>3232235533</td>\n",
       "      <td>10000</td>\n",
       "      <td>3232235536</td>\n",
       "      <td>10101</td>\n",
       "      <td>17</td>\n",
       "    </tr>\n",
       "  </tbody>\n",
       "</table>\n",
       "<p>625783 rows × 5 columns</p>\n",
       "</div>"
      ],
      "text/plain": [
       "            Src_IP  Src_Port      Dst_IP  Dst_Port  Protocol\n",
       "0       3232235533     10000  3232235536     10101        17\n",
       "1       3735073668      2179  3232235533       554         6\n",
       "2       3232235536     52727  3232235533      9020         6\n",
       "3       3232235536     52964  3232235533      9020         6\n",
       "4       3232235521     36763  4026531834      1900        17\n",
       "...            ...       ...         ...       ...       ...\n",
       "625778  3232235544     56112  3529090138      8043        17\n",
       "625779  3733171188      4570  3232235533       554         6\n",
       "625780  3232235536     52739  3232235533      9020         6\n",
       "625781  3232235533      9020  3232235536     49784         6\n",
       "625782  3232235533     10000  3232235536     10101        17\n",
       "\n",
       "[625783 rows x 5 columns]"
      ]
     },
     "execution_count": 39,
     "metadata": {
      "tags": []
     },
     "output_type": "execute_result"
    }
   ],
   "source": [
    "X.drop(['Flow_Duration'], axis=1)"
   ]
  },
  {
   "cell_type": "markdown",
   "metadata": {
    "id": "fGS2VSst38go"
   },
   "source": [
    "**High Correlation filter**\n",
    "\n",
    "\n",
    "---\n",
    "\n"
   ]
  },
  {
   "cell_type": "markdown",
   "metadata": {
    "id": "hx0Lw9LOFHRt"
   },
   "source": [
    "High correlation between two variables means they have similar trends and are likely to carry similar information. This can bring down the performance of some models drastically (linear and logistic regression models, for instance). We can calculate the correlation between independent numerical variables that are numerical in nature. If the correlation coefficient crosses a certain threshold value, we can drop one of the variables"
   ]
  },
  {
   "cell_type": "code",
   "execution_count": 40,
   "metadata": {
    "colab": {
     "base_uri": "https://localhost:8080/",
     "height": 173
    },
    "id": "OV8hWjK0flVY",
    "outputId": "b283b3af-7177-49a3-b46f-82e2d72ee4bb"
   },
   "outputs": [
    {
     "data": {
      "text/html": [
       "<div>\n",
       "<style scoped>\n",
       "    .dataframe tbody tr th:only-of-type {\n",
       "        vertical-align: middle;\n",
       "    }\n",
       "\n",
       "    .dataframe tbody tr th {\n",
       "        vertical-align: top;\n",
       "    }\n",
       "\n",
       "    .dataframe thead th {\n",
       "        text-align: right;\n",
       "    }\n",
       "</style>\n",
       "<table border=\"1\" class=\"dataframe\">\n",
       "  <thead>\n",
       "    <tr style=\"text-align: right;\">\n",
       "      <th></th>\n",
       "      <th>Src_Port</th>\n",
       "      <th>Dst_Port</th>\n",
       "      <th>Protocol</th>\n",
       "      <th>Flow_Duration</th>\n",
       "    </tr>\n",
       "  </thead>\n",
       "  <tbody>\n",
       "    <tr>\n",
       "      <th>Src_Port</th>\n",
       "      <td>1.000000</td>\n",
       "      <td>-0.598295</td>\n",
       "      <td>0.463515</td>\n",
       "      <td>-0.151521</td>\n",
       "    </tr>\n",
       "    <tr>\n",
       "      <th>Dst_Port</th>\n",
       "      <td>-0.598295</td>\n",
       "      <td>1.000000</td>\n",
       "      <td>-0.277742</td>\n",
       "      <td>-0.063070</td>\n",
       "    </tr>\n",
       "    <tr>\n",
       "      <th>Protocol</th>\n",
       "      <td>0.463515</td>\n",
       "      <td>-0.277742</td>\n",
       "      <td>1.000000</td>\n",
       "      <td>-0.086556</td>\n",
       "    </tr>\n",
       "    <tr>\n",
       "      <th>Flow_Duration</th>\n",
       "      <td>-0.151521</td>\n",
       "      <td>-0.063070</td>\n",
       "      <td>-0.086556</td>\n",
       "      <td>1.000000</td>\n",
       "    </tr>\n",
       "  </tbody>\n",
       "</table>\n",
       "</div>"
      ],
      "text/plain": [
       "               Src_Port  Dst_Port  Protocol  Flow_Duration\n",
       "Src_Port       1.000000 -0.598295  0.463515      -0.151521\n",
       "Dst_Port      -0.598295  1.000000 -0.277742      -0.063070\n",
       "Protocol       0.463515 -0.277742  1.000000      -0.086556\n",
       "Flow_Duration -0.151521 -0.063070 -0.086556       1.000000"
      ]
     },
     "execution_count": 40,
     "metadata": {
      "tags": []
     },
     "output_type": "execute_result"
    }
   ],
   "source": [
    "X.corr()"
   ]
  },
  {
   "cell_type": "markdown",
   "metadata": {
    "id": "pOkGqwMoFLnT"
   },
   "source": [
    "We don’t have any variables with a high correlation in our dataset so, we're ready to go."
   ]
  },
  {
   "cell_type": "markdown",
   "metadata": {
    "id": "j3Eoxpuf98VK"
   },
   "source": [
    "### **Binary Classification**\n",
    "\n",
    "\n",
    "---\n",
    "\n"
   ]
  },
  {
   "cell_type": "markdown",
   "metadata": {
    "id": "PIEMmrNz0miT"
   },
   "source": [
    "**Splitting the data into Training and Testing**\n",
    "\n",
    "\n",
    "---\n",
    "We will now split the data into training and testing. 70% will be training data while 30% test data.\n"
   ]
  },
  {
   "cell_type": "code",
   "execution_count": 41,
   "metadata": {
    "id": "V946OqO1sYz4"
   },
   "outputs": [],
   "source": [
    "X_train, X_test, y_train, y_test = train_test_split(X, y, test_size=0.3,random_state=0)"
   ]
  },
  {
   "cell_type": "markdown",
   "metadata": {
    "id": "I3ANcXBm0-lI"
   },
   "source": [
    "**Performing Binary Classification**\n",
    "\n",
    "\n",
    "---\n",
    "Now we wil train the model using both Gaussian Naive Bayes model and Decision trees classifier using our training data. \n"
   ]
  },
  {
   "cell_type": "code",
   "execution_count": 42,
   "metadata": {
    "colab": {
     "base_uri": "https://localhost:8080/"
    },
    "id": "Sp93BPfRr4AT",
    "outputId": "6ac3e09a-58f9-4193-a01a-73925ec9b9c8"
   },
   "outputs": [
    {
     "data": {
      "text/plain": [
       "GaussianNB(priors=None, var_smoothing=1e-09)"
      ]
     },
     "execution_count": 42,
     "metadata": {
      "tags": []
     },
     "output_type": "execute_result"
    }
   ],
   "source": [
    "#Create a Gaussian Classifier\n",
    "gnb = GaussianNB()\n",
    "\n",
    "#Train the model using the training sets\n",
    "gnb.fit(X_train, y_train)\n"
   ]
  },
  {
   "cell_type": "markdown",
   "metadata": {
    "id": "Y-Nl5hUvFaKx"
   },
   "source": [
    "Now using decision trees."
   ]
  },
  {
   "cell_type": "code",
   "execution_count": 43,
   "metadata": {
    "id": "E261ytN5D06o"
   },
   "outputs": [],
   "source": [
    "dt = tree.DecisionTreeClassifier()   # empty model of the decision tree\n",
    "dt = dt.fit(X_train,y_train)"
   ]
  },
  {
   "cell_type": "markdown",
   "metadata": {
    "id": "tCSqbkoh1FAv"
   },
   "source": [
    "### **Results Visualisation for binary Classification**\n",
    "\n",
    "\n",
    "---\n",
    "Now we will take a look at our results in some ways. \n"
   ]
  },
  {
   "cell_type": "markdown",
   "metadata": {
    "id": "yNa30jZrexe1"
   },
   "source": [
    "**Accuracy**\n",
    "\n",
    "\n",
    "---\n",
    "\n"
   ]
  },
  {
   "cell_type": "code",
   "execution_count": 44,
   "metadata": {
    "colab": {
     "base_uri": "https://localhost:8080/"
    },
    "id": "payNiy52vMjo",
    "outputId": "ef635576-f66a-47d4-b4ec-a4e2cc035eeb"
   },
   "outputs": [
    {
     "name": "stdout",
     "output_type": "stream",
     "text": [
      "Accuracy for naive bayes: 94.95565557834182\n"
     ]
    }
   ],
   "source": [
    "#Predict the response for test dataset\n",
    "y_pred_nb = gnb.predict(X_test)\n",
    "# Model Accuracy, how often is the classifier correct?\n",
    "print(\"Accuracy for naive bayes:\",metrics.accuracy_score(y_test, y_pred_nb)*100)"
   ]
  },
  {
   "cell_type": "markdown",
   "metadata": {
    "id": "iRg4DvYcFMx7"
   },
   "source": [
    "Now the accuracy score for Decision trees."
   ]
  },
  {
   "cell_type": "code",
   "execution_count": 45,
   "metadata": {
    "colab": {
     "base_uri": "https://localhost:8080/"
    },
    "id": "IKtkX3YYEDaO",
    "outputId": "6b5f9638-b192-43c0-b963-e1dfd0cc062f"
   },
   "outputs": [
    {
     "name": "stdout",
     "output_type": "stream",
     "text": [
      "Accuracy for Decision trees: 99.96804005646257\n"
     ]
    }
   ],
   "source": [
    "#Predict the response for test dataset\n",
    "y_pred_dt = dt.predict(X_test)\n",
    "# Model Accuracy, how often is the classifier correct?\n",
    "print(\"Accuracy for Decision trees:\",metrics.accuracy_score(y_test, y_pred_dt)*100)"
   ]
  },
  {
   "cell_type": "markdown",
   "metadata": {
    "id": "i4RPmdXye_u3"
   },
   "source": [
    "**Precision**\n",
    "\n",
    "\n",
    "---\n",
    "\n"
   ]
  },
  {
   "cell_type": "code",
   "execution_count": 46,
   "metadata": {
    "colab": {
     "base_uri": "https://localhost:8080/"
    },
    "id": "qLsywFfGhFPf",
    "outputId": "37e3d746-5aab-4eb0-8bcf-16e1ac638be3"
   },
   "outputs": [
    {
     "name": "stdout",
     "output_type": "stream",
     "text": [
      "Precision for Naive Bayes: 0.9495565557834181\n"
     ]
    }
   ],
   "source": [
    "prec_nb = metrics.precision_score(y_test, y_pred_nb,average='micro')\n",
    "print(\"Precision for Naive Bayes:\",prec_nb)"
   ]
  },
  {
   "cell_type": "code",
   "execution_count": 47,
   "metadata": {
    "colab": {
     "base_uri": "https://localhost:8080/"
    },
    "id": "l6md5cfwfmu4",
    "outputId": "176bd6c3-128c-493a-a16d-93a5224a81c4"
   },
   "outputs": [
    {
     "name": "stdout",
     "output_type": "stream",
     "text": [
      "Precision for Decision trees: 0.9996804005646257\n"
     ]
    }
   ],
   "source": [
    "prec_dt = metrics.precision_score(y_test, y_pred_dt,average='micro')\n",
    "print(\"Precision for Decision trees:\",prec_dt)"
   ]
  },
  {
   "cell_type": "markdown",
   "metadata": {
    "id": "318H883ihQLs"
   },
   "source": [
    "**Recall**\n",
    "\n",
    "\n",
    "---\n",
    "\n"
   ]
  },
  {
   "cell_type": "code",
   "execution_count": 48,
   "metadata": {
    "colab": {
     "base_uri": "https://localhost:8080/"
    },
    "id": "zlqq5I8ahm6i",
    "outputId": "a8cc9609-ead0-4835-9451-32a00e40294a"
   },
   "outputs": [
    {
     "name": "stdout",
     "output_type": "stream",
     "text": [
      "Recall Score for Naive Bayes: 0.9495565557834181\n"
     ]
    }
   ],
   "source": [
    "recall_nb = metrics.recall_score(y_test, y_pred_nb,average='micro')\n",
    "print(\"Recall Score for Naive Bayes:\",recall_nb)"
   ]
  },
  {
   "cell_type": "code",
   "execution_count": 49,
   "metadata": {
    "colab": {
     "base_uri": "https://localhost:8080/"
    },
    "id": "iH6e__7uhm6m",
    "outputId": "0df222c2-26bb-4dd7-9842-17ef4549ccf2"
   },
   "outputs": [
    {
     "name": "stdout",
     "output_type": "stream",
     "text": [
      "Recall for Decision trees: 0.9996804005646257\n"
     ]
    }
   ],
   "source": [
    "recall_dt = metrics.recall_score(y_test, y_pred_dt,average='micro')\n",
    "print(\"Recall for Decision trees:\",recall_dt)"
   ]
  },
  {
   "cell_type": "markdown",
   "metadata": {
    "id": "5DLWXsWoiWXX"
   },
   "source": [
    "**F1 Score(F Measure)**\n",
    "\n",
    "---\n",
    "\n",
    "The F measure can be claculated using the formula\n",
    "F-Measure = (2 * Precision * Recall) / (Precision + Recall)"
   ]
  },
  {
   "cell_type": "markdown",
   "metadata": {
    "id": "y7lzC75CjU9Z"
   },
   "source": [
    "For Naive Bayes"
   ]
  },
  {
   "cell_type": "code",
   "execution_count": 50,
   "metadata": {
    "colab": {
     "base_uri": "https://localhost:8080/"
    },
    "id": "EMtrw_R9ijQm",
    "outputId": "ae7f8eb5-1e87-4247-9b9b-8e475e9bf34a"
   },
   "outputs": [
    {
     "name": "stdout",
     "output_type": "stream",
     "text": [
      "The F-Measure for Naive Bayesian is:  0.9495565557834181\n"
     ]
    }
   ],
   "source": [
    "Fmeasure_nb = (2*prec_nb*recall_nb)/(prec_nb+recall_nb)\n",
    "print(\"The F-Measure for Naive Bayesian is: \",Fmeasure_nb)"
   ]
  },
  {
   "cell_type": "markdown",
   "metadata": {
    "id": "Ai7ACvH3j8H6"
   },
   "source": [
    "For Decision Trees"
   ]
  },
  {
   "cell_type": "code",
   "execution_count": 51,
   "metadata": {
    "colab": {
     "base_uri": "https://localhost:8080/"
    },
    "id": "Bpiyhu87iita",
    "outputId": "b71c07cd-1401-4e26-c9f1-8e90b7303c73"
   },
   "outputs": [
    {
     "name": "stdout",
     "output_type": "stream",
     "text": [
      "The F-Measure for Decision Trees is:  0.9996804005646257\n"
     ]
    }
   ],
   "source": [
    "Fmeasure_dt = (2*prec_dt*recall_dt)/(prec_dt+recall_dt)\n",
    "print(\"The F-Measure for Decision Trees is: \",Fmeasure_dt)"
   ]
  },
  {
   "cell_type": "markdown",
   "metadata": {
    "id": "jH-B3agIX_ps"
   },
   "source": [
    "**Confusion Matrix**\n",
    "\n",
    "\n",
    "---\n",
    "\n"
   ]
  },
  {
   "cell_type": "markdown",
   "metadata": {
    "id": "L57IdBrLYH0n"
   },
   "source": [
    "For Naive Bayes"
   ]
  },
  {
   "cell_type": "code",
   "execution_count": 52,
   "metadata": {
    "colab": {
     "base_uri": "https://localhost:8080/",
     "height": 268
    },
    "id": "sX0tasK0X2WA",
    "outputId": "ae03df4b-edf8-4c20-e325-bdae32183ee4"
   },
   "outputs": [
    {
     "data": {
      "image/png": "[encoded data removed]",
      "text/plain": [
       "<Figure size 432x288 with 2 Axes>"
      ]
     },
     "metadata": {
      "tags": []
     },
     "output_type": "display_data"
    }
   ],
   "source": [
    "import seaborn as sn\n",
    "df_cm = pd.DataFrame(metrics.confusion_matrix(y_test, y_pred_nb), range(2), range(2))\n",
    "sn.set(font_scale=1) \n",
    "sn.heatmap(df_cm, annot=True, annot_kws={\"size\": 10}) # font size\n",
    "plt.show()"
   ]
  },
  {
   "cell_type": "markdown",
   "metadata": {
    "id": "YSWIknjRYMfW"
   },
   "source": [
    "For Decision trees"
   ]
  },
  {
   "cell_type": "code",
   "execution_count": 53,
   "metadata": {
    "colab": {
     "base_uri": "https://localhost:8080/",
     "height": 268
    },
    "id": "z6t-Zqr-YPKl",
    "outputId": "fdd4783e-d6e6-48b9-9910-61ec1c76bd4e"
   },
   "outputs": [
    {
     "data": {
      "image/png": "[encoded data removed]",
      "text/plain": [
       "<Figure size 432x288 with 2 Axes>"
      ]
     },
     "metadata": {
      "tags": []
     },
     "output_type": "display_data"
    }
   ],
   "source": [
    "df_cm = pd.DataFrame(metrics.confusion_matrix(y_test, y_pred_dt), range(2), range(2))\n",
    "sn.set(font_scale=1) \n",
    "sn.heatmap(df_cm, annot=True, annot_kws={\"size\": 10}) # font size\n",
    "plt.show()"
   ]
  },
  {
   "cell_type": "markdown",
   "metadata": {
    "id": "41UVeHMBYXw-"
   },
   "source": [
    "**True Positive Rate (Sensitivity)**\n",
    "\n",
    "\n",
    "---\n",
    "True Positive rate can be calculated as\n",
    "Rate = TP/TP+FN\n",
    "Where\n",
    "TP = Total true positives\n",
    "FN = Total False Negatives\n"
   ]
  },
  {
   "cell_type": "markdown",
   "metadata": {
    "id": "bCAYMiD8r9Uv"
   },
   "source": [
    "For Naive Bayes"
   ]
  },
  {
   "cell_type": "code",
   "execution_count": 54,
   "metadata": {
    "colab": {
     "base_uri": "https://localhost:8080/"
    },
    "id": "d41q5a2YPIKN",
    "outputId": "ad102a3f-bb4a-4220-a1fb-6b1c9b9e796a"
   },
   "outputs": [
    {
     "name": "stdout",
     "output_type": "stream",
     "text": [
      "True Positive rate for naive bayes is:  0.8230293025175403\n"
     ]
    }
   ],
   "source": [
    "tn_nb,fp_nb,fn_nb,tp_nb = metrics.confusion_matrix(y_test, y_pred_nb).ravel()\n",
    "print(\"True Positive rate for naive bayes is: \", tp_nb/(tp_nb+fn_nb))  "
   ]
  },
  {
   "cell_type": "markdown",
   "metadata": {
    "id": "JMa1paU_seZU"
   },
   "source": [
    "For Decision Trees"
   ]
  },
  {
   "cell_type": "code",
   "execution_count": 55,
   "metadata": {
    "colab": {
     "base_uri": "https://localhost:8080/"
    },
    "id": "Po2tmfjwsjPY",
    "outputId": "0544f414-69fe-461c-d6b9-66f22950f47d"
   },
   "outputs": [
    {
     "name": "stdout",
     "output_type": "stream",
     "text": [
      "True Positive rate for Decision trees is:  0.9972761040033017\n"
     ]
    }
   ],
   "source": [
    "tn_dt,fp_dt,fn_dt,tp_dt = metrics.confusion_matrix(y_test, y_pred_dt).ravel()\n",
    "print(\"True Positive rate for Decision trees is: \", tp_dt/(tp_dt+fn_dt)) "
   ]
  },
  {
   "cell_type": "markdown",
   "metadata": {
    "id": "X4TZ6mg9tDMQ"
   },
   "source": [
    "**False Positive Rate (Specificity)**\n",
    "\n",
    "\n",
    "---\n",
    "False Positive rate can be calculated as\n",
    "False Positive Rate = FP/FP+TN\n",
    "Where\n",
    "FP = Total False positives\n",
    "TN = Total True Negatives\n"
   ]
  },
  {
   "cell_type": "markdown",
   "metadata": {
    "id": "xSiJLijDtDMR"
   },
   "source": [
    "For Naive Bayes"
   ]
  },
  {
   "cell_type": "code",
   "execution_count": 56,
   "metadata": {
    "colab": {
     "base_uri": "https://localhost:8080/"
    },
    "id": "znRUWUbWtDMR",
    "outputId": "97113bdc-c665-4e1b-d285-5e638a4e95e6"
   },
   "outputs": [
    {
     "name": "stdout",
     "output_type": "stream",
     "text": [
      "False Positive rate for naive bayes is:  0.04171506662111377\n"
     ]
    }
   ],
   "source": [
    "#tn_nb,fp_nb,fn_nb,tp_nb = metrics.confusion_matrix(y_test, y_pred_nb).ravel()\n",
    "print(\"False Positive rate for naive bayes is: \", fp_nb/(fp_nb+tn_nb))  "
   ]
  },
  {
   "cell_type": "markdown",
   "metadata": {
    "id": "14CJ-CTHtDMS"
   },
   "source": [
    "For Decision Trees"
   ]
  },
  {
   "cell_type": "code",
   "execution_count": 57,
   "metadata": {
    "colab": {
     "base_uri": "https://localhost:8080/"
    },
    "id": "5YNVWz5BtDMT",
    "outputId": "3e6b4671-aab7-45d6-9e47-6aa8437da9a4"
   },
   "outputs": [
    {
     "name": "stdout",
     "output_type": "stream",
     "text": [
      "False Positive rate for Decision trees is:  0.00015374103177314658\n"
     ]
    }
   ],
   "source": [
    "tn_dt,fp_dt,fn_dt,tp_dt = metrics.confusion_matrix(y_test, y_pred_dt).ravel()\n",
    "print(\"False Positive rate for Decision trees is: \", fp_dt/(fp_dt+tn_dt)) "
   ]
  },
  {
   "cell_type": "markdown",
   "metadata": {
    "id": "MQcgvgqe8gWy"
   },
   "source": [
    "**Classification Report**\n",
    "\n",
    "\n",
    "---\n",
    "\n"
   ]
  },
  {
   "cell_type": "markdown",
   "metadata": {
    "id": "LN7ovIPf8nEC"
   },
   "source": [
    "For Naive Bayes"
   ]
  },
  {
   "cell_type": "code",
   "execution_count": 58,
   "metadata": {
    "colab": {
     "base_uri": "https://localhost:8080/"
    },
    "id": "aTHIKiGb0hF5",
    "outputId": "28786446-935b-4cc4-8404-cc62a592bea5"
   },
   "outputs": [
    {
     "name": "stdout",
     "output_type": "stream",
     "text": [
      "              precision    recall  f1-score   support\n",
      "\n",
      "      Normal       0.58      0.82      0.68     12115\n",
      "     Anomaly       0.99      0.96      0.97    175620\n",
      "\n",
      "    accuracy                           0.95    187735\n",
      "   macro avg       0.78      0.89      0.83    187735\n",
      "weighted avg       0.96      0.95      0.95    187735\n",
      "\n"
     ]
    }
   ],
   "source": [
    "print(metrics.classification_report(y_test, y_pred_nb, labels=['Normal','Anomaly']))"
   ]
  },
  {
   "cell_type": "markdown",
   "metadata": {
    "id": "ov8JG2398p0N"
   },
   "source": [
    "For Decision Trees"
   ]
  },
  {
   "cell_type": "code",
   "execution_count": 59,
   "metadata": {
    "colab": {
     "base_uri": "https://localhost:8080/"
    },
    "id": "AZ0qncvE8vV6",
    "outputId": "6d22c7d6-b6d5-4116-cd0e-4a8c6590efc8"
   },
   "outputs": [
    {
     "name": "stdout",
     "output_type": "stream",
     "text": [
      "              precision    recall  f1-score   support\n",
      "\n",
      "      Normal       1.00      1.00      1.00     12115\n",
      "     Anomaly       1.00      1.00      1.00    175620\n",
      "\n",
      "    accuracy                           1.00    187735\n",
      "   macro avg       1.00      1.00      1.00    187735\n",
      "weighted avg       1.00      1.00      1.00    187735\n",
      "\n"
     ]
    }
   ],
   "source": [
    "print(metrics.classification_report(y_test, y_pred_dt, labels=['Normal','Anomaly']))"
   ]
  },
  {
   "cell_type": "markdown",
   "metadata": {
    "id": "O3Zt_sOH9dSk"
   },
   "source": [
    "**Predictions**\n",
    "\n",
    "\n",
    "---\n",
    "\n"
   ]
  },
  {
   "cell_type": "code",
   "execution_count": 60,
   "metadata": {
    "colab": {
     "base_uri": "https://localhost:8080/"
    },
    "id": "9ucy3J3WvSMJ",
    "outputId": "35813efb-d535-4bfe-b118-86ce44abe238"
   },
   "outputs": [
    {
     "data": {
      "text/plain": [
       "array(['Normal'], dtype='<U7')"
      ]
     },
     "execution_count": 60,
     "metadata": {
      "tags": []
     },
     "output_type": "execute_result"
    }
   ],
   "source": [
    "gnb.predict([[int(ipaddress.ip_address('192.168.0.13')),9020, int(ipaddress.ip_address('192.168.0.16')),49784,6,120]])"
   ]
  },
  {
   "cell_type": "code",
   "execution_count": 61,
   "metadata": {
    "colab": {
     "base_uri": "https://localhost:8080/"
    },
    "id": "ALJ9AQa7FGd2",
    "outputId": "e26c9c6d-9b49-47a9-e4d8-26a3c7db0c92"
   },
   "outputs": [
    {
     "data": {
      "text/plain": [
       "array(['Normal'], dtype=object)"
      ]
     },
     "execution_count": 61,
     "metadata": {
      "tags": []
     },
     "output_type": "execute_result"
    }
   ],
   "source": [
    "dt.predict([[int(ipaddress.ip_address('192.168.0.13')),9020, int(ipaddress.ip_address('192.168.0.16')),49784,6,120]])"
   ]
  },
  {
   "cell_type": "markdown",
   "metadata": {
    "id": "mDazt910Bzmd"
   },
   "source": [
    "Our Model is more than 95% accurate. Predicting from some given test data also shows us the accurate result which shows that our models are very accurate for Binary Classification. "
   ]
  },
  {
   "cell_type": "markdown",
   "metadata": {
    "id": "PzzLo8EiCqKT"
   },
   "source": [
    "### **Multi Class Classification**\n",
    "\n",
    "\n",
    "---\n",
    "Now, we will use the Sub category label which shows us the type of attack that has been made on anamalous IP addresses.\n",
    "\n",
    "\n",
    "\n",
    "\n",
    "\n"
   ]
  },
  {
   "cell_type": "markdown",
   "metadata": {
    "id": "uPL0bkyPGc0m"
   },
   "source": [
    "First we will store the Sub category label in y variable and again split the data into test and training."
   ]
  },
  {
   "cell_type": "code",
   "execution_count": 62,
   "metadata": {
    "id": "CG1kyxOxGEJT"
   },
   "outputs": [],
   "source": [
    "y = data['Sub_Cat']\n",
    "X_train, X_test, y_train, y_test = train_test_split(X, y, test_size=0.3,random_state=0)"
   ]
  },
  {
   "cell_type": "code",
   "execution_count": 63,
   "metadata": {
    "colab": {
     "base_uri": "https://localhost:8080/"
    },
    "id": "8tnSsuvZ4xEz",
    "outputId": "c31ce9a1-872b-4adb-cbbb-2b26667b96c6"
   },
   "outputs": [
    {
     "name": "stdout",
     "output_type": "stream",
     "text": [
      "0             Mirai-Ackflooding\n",
      "1               DoS-Synflooding\n",
      "2                  Scan Port OS\n",
      "3         Mirai-Hostbruteforceg\n",
      "4         Mirai-Hostbruteforceg\n",
      "                  ...          \n",
      "625778       Mirai-UDP Flooding\n",
      "625779          DoS-Synflooding\n",
      "625780             Scan Port OS\n",
      "625781                   Normal\n",
      "625782       Mirai-UDP Flooding\n",
      "Name: Sub_Cat, Length: 625783, dtype: object\n"
     ]
    }
   ],
   "source": [
    "print(y)"
   ]
  },
  {
   "cell_type": "markdown",
   "metadata": {
    "id": "AGeuGqB6Gtd-"
   },
   "source": [
    "Again we will train model again but this time using the same classifier."
   ]
  },
  {
   "cell_type": "code",
   "execution_count": 64,
   "metadata": {
    "id": "OXnUX1tsOInS"
   },
   "outputs": [],
   "source": [
    "#Create a Gaussian Classifier\n",
    "gnb = GaussianNB()\n",
    "\n",
    "#Train the model using the training sets\n",
    "gnb = gnb.fit(X_train, y_train)\n"
   ]
  },
  {
   "cell_type": "markdown",
   "metadata": {
    "id": "5ZMUGfbkGJRJ"
   },
   "source": [
    "Multi class decision tree classifier."
   ]
  },
  {
   "cell_type": "code",
   "execution_count": 65,
   "metadata": {
    "id": "5iLBbGdkGDHJ"
   },
   "outputs": [],
   "source": [
    "dt = tree.DecisionTreeClassifier()   # empty model of the decision tree\n",
    "dt = dt.fit(X_train,y_train)"
   ]
  },
  {
   "cell_type": "markdown",
   "metadata": {
    "id": "C80LDlM5-E1f"
   },
   "source": [
    "### **Results Visualisation with Multi Class Classification**\n",
    "\n",
    "\n",
    "---\n",
    "Now we will take a look at our results in some ways. \n"
   ]
  },
  {
   "cell_type": "markdown",
   "metadata": {
    "id": "jS9WisWt-E1z"
   },
   "source": [
    "**Accuracy**\n",
    "\n",
    "\n",
    "---\n",
    "\n"
   ]
  },
  {
   "cell_type": "code",
   "execution_count": 66,
   "metadata": {
    "colab": {
     "base_uri": "https://localhost:8080/"
    },
    "id": "XrOuI1uD-E11",
    "outputId": "7ac5e735-dfdc-400d-f0dc-79203cf56064"
   },
   "outputs": [
    {
     "name": "stdout",
     "output_type": "stream",
     "text": [
      "Accuracy for naive bayes: 41.45364476522758\n"
     ]
    }
   ],
   "source": [
    "#Predict the response for test dataset\n",
    "y_pred_nb = gnb.predict(X_test)\n",
    "# Model Accuracy, how often is the classifier correct?\n",
    "print(\"Accuracy for naive bayes:\",metrics.accuracy_score(y_test, y_pred_nb)*100)"
   ]
  },
  {
   "cell_type": "markdown",
   "metadata": {
    "id": "taxYQsS_-E16"
   },
   "source": [
    "Now the accuracy score for Decision trees."
   ]
  },
  {
   "cell_type": "code",
   "execution_count": 67,
   "metadata": {
    "colab": {
     "base_uri": "https://localhost:8080/"
    },
    "id": "xIBZSSCJ-E18",
    "outputId": "cd143a92-8650-4bb6-f867-9771347e043e"
   },
   "outputs": [
    {
     "name": "stdout",
     "output_type": "stream",
     "text": [
      "Accuracy for Decision trees: 78.98686978986336\n"
     ]
    }
   ],
   "source": [
    "#Predict the response for test dataset\n",
    "y_pred_dt = dt.predict(X_test)\n",
    "# Model Accuracy, how often is the classifier correct?\n",
    "print(\"Accuracy for Decision trees:\",metrics.accuracy_score(y_test, y_pred_dt)*100)"
   ]
  },
  {
   "cell_type": "markdown",
   "metadata": {
    "id": "BUFCXr2z-E1-"
   },
   "source": [
    "**Precision**\n",
    "\n",
    "\n",
    "---\n",
    "\n"
   ]
  },
  {
   "cell_type": "code",
   "execution_count": 68,
   "metadata": {
    "colab": {
     "base_uri": "https://localhost:8080/"
    },
    "id": "9O8bnCn3-E1_",
    "outputId": "2718f0f3-117a-4807-ebff-1a8564e33de2"
   },
   "outputs": [
    {
     "name": "stdout",
     "output_type": "stream",
     "text": [
      "Precision for Naive Bayes: 0.4145364476522758\n"
     ]
    }
   ],
   "source": [
    "prec_nb = metrics.precision_score(y_test, y_pred_nb,average='micro')\n",
    "print(\"Precision for Naive Bayes:\",prec_nb)"
   ]
  },
  {
   "cell_type": "code",
   "execution_count": 69,
   "metadata": {
    "colab": {
     "base_uri": "https://localhost:8080/"
    },
    "id": "ySfFhGQ_-E1_",
    "outputId": "5a4b8a7a-20a8-4b3a-cb34-b27868de8a3c"
   },
   "outputs": [
    {
     "name": "stdout",
     "output_type": "stream",
     "text": [
      "Precision for Decision trees: 0.7898686978986337\n"
     ]
    }
   ],
   "source": [
    "prec_dt = metrics.precision_score(y_test, y_pred_dt,average='micro')\n",
    "print(\"Precision for Decision trees:\",prec_dt)"
   ]
  },
  {
   "cell_type": "markdown",
   "metadata": {
    "id": "mr0eiqd8-E2A"
   },
   "source": [
    "**Recall**\n",
    "\n",
    "\n",
    "---\n",
    "\n"
   ]
  },
  {
   "cell_type": "code",
   "execution_count": 70,
   "metadata": {
    "colab": {
     "base_uri": "https://localhost:8080/"
    },
    "id": "IozcNPWZ-E2A",
    "outputId": "11c92681-0422-455d-8988-8ae04b114b00"
   },
   "outputs": [
    {
     "name": "stdout",
     "output_type": "stream",
     "text": [
      "Recall Score for Naive Bayes: 0.4145364476522758\n"
     ]
    }
   ],
   "source": [
    "recall_nb = metrics.recall_score(y_test, y_pred_nb,average='weighted')\n",
    "print(\"Recall Score for Naive Bayes:\",recall_nb)"
   ]
  },
  {
   "cell_type": "code",
   "execution_count": 71,
   "metadata": {
    "colab": {
     "base_uri": "https://localhost:8080/"
    },
    "id": "nVg5X4fK-E2B",
    "outputId": "97570701-aaa3-47e5-e06c-5cdc587094b1"
   },
   "outputs": [
    {
     "name": "stdout",
     "output_type": "stream",
     "text": [
      "Recall for Decision trees: 0.7898686978986337\n"
     ]
    }
   ],
   "source": [
    "recall_dt = metrics.recall_score(y_test, y_pred_dt,average='weighted')\n",
    "print(\"Recall for Decision trees:\",recall_dt)"
   ]
  },
  {
   "cell_type": "markdown",
   "metadata": {
    "id": "5HW96pFR-E2B"
   },
   "source": [
    "**F1 Score**\n",
    "\n",
    "---\n",
    "\n",
    "The F measure can be claculated using the formula\n",
    "F-Measure = (2 * Precision * Recall) / (Precision + Recall)"
   ]
  },
  {
   "cell_type": "markdown",
   "metadata": {
    "id": "tXxkPIKj-E2B"
   },
   "source": [
    "For Naive Bayes"
   ]
  },
  {
   "cell_type": "code",
   "execution_count": 72,
   "metadata": {
    "colab": {
     "base_uri": "https://localhost:8080/"
    },
    "id": "QxyB0rxS-E2C",
    "outputId": "efb0fa97-e548-4545-8f70-4dad49f29982"
   },
   "outputs": [
    {
     "name": "stdout",
     "output_type": "stream",
     "text": [
      "The F-Measure for Naive Bayesian is:  0.4145364476522758\n"
     ]
    }
   ],
   "source": [
    "Fmeasure_nb = (2*prec_nb*recall_nb)/(prec_nb+recall_nb)\n",
    "print(\"The F-Measure for Naive Bayesian is: \",Fmeasure_nb)"
   ]
  },
  {
   "cell_type": "markdown",
   "metadata": {
    "id": "xxj5-iG6-E2C"
   },
   "source": [
    "For Decision Trees"
   ]
  },
  {
   "cell_type": "code",
   "execution_count": 73,
   "metadata": {
    "colab": {
     "base_uri": "https://localhost:8080/"
    },
    "id": "jSqTP3P5-E2D",
    "outputId": "a9b31579-fffb-4abd-c97c-2b389ff562ce"
   },
   "outputs": [
    {
     "name": "stdout",
     "output_type": "stream",
     "text": [
      "The F-Measure for Decision Trees is:  0.7898686978986338\n"
     ]
    }
   ],
   "source": [
    "Fmeasure_dt = (2*prec_dt*recall_dt)/(prec_dt+recall_dt)\n",
    "print(\"The F-Measure for Decision Trees is: \",Fmeasure_dt)"
   ]
  },
  {
   "cell_type": "markdown",
   "metadata": {
    "id": "mYJnSAjy-E2E"
   },
   "source": [
    "**Confusion Matrix**\n",
    "\n",
    "\n",
    "---\n",
    "\n"
   ]
  },
  {
   "cell_type": "markdown",
   "metadata": {
    "id": "IaM6fZmp-E2E"
   },
   "source": [
    "For Naive Bayes"
   ]
  },
  {
   "cell_type": "code",
   "execution_count": 74,
   "metadata": {
    "colab": {
     "base_uri": "https://localhost:8080/",
     "height": 273
    },
    "id": "rZqVZUl--E2E",
    "outputId": "c1d51cc3-ead0-41ba-84ac-dec31dbf10e2"
   },
   "outputs": [
    {
     "data": {
      "image/png": "[encoded data removed]",
      "text/plain": [
       "<Figure size 432x288 with 2 Axes>"
      ]
     },
     "metadata": {
      "tags": []
     },
     "output_type": "display_data"
    }
   ],
   "source": [
    "import seaborn as sn\n",
    "df_cm = pd.DataFrame(metrics.confusion_matrix(y_test, y_pred_nb), range(9), range(9))\n",
    "sn.set(font_scale=1.4) \n",
    "sn.heatmap(df_cm, annot=True, annot_kws={\"size\": 7}) # font size\n",
    "plt.show()"
   ]
  },
  {
   "cell_type": "markdown",
   "metadata": {
    "id": "ZimKvQqY-E2F"
   },
   "source": [
    "For Decision trees"
   ]
  },
  {
   "cell_type": "code",
   "execution_count": 75,
   "metadata": {
    "colab": {
     "base_uri": "https://localhost:8080/",
     "height": 268
    },
    "id": "q2DUKFbs-E2F",
    "outputId": "51524287-d243-4af2-d7b3-897f5993af2a"
   },
   "outputs": [
    {
     "data": {
      "image/png": "[encoded data removed]",
      "text/plain": [
       "<Figure size 432x288 with 2 Axes>"
      ]
     },
     "metadata": {
      "tags": []
     },
     "output_type": "display_data"
    }
   ],
   "source": [
    "df_cm = pd.DataFrame(metrics.confusion_matrix(y_test, y_pred_dt), range(9), range(9))\n",
    "sn.set(font_scale=1) \n",
    "sn.heatmap(df_cm, annot=True, annot_kws={\"size\": 10}) # font size\n",
    "plt.show()"
   ]
  },
  {
   "cell_type": "markdown",
   "metadata": {
    "id": "5qFz-HnL-E2F"
   },
   "source": [
    "**True Positive Rate (Sensitivity)**\n",
    "\n",
    "\n",
    "---\n",
    "True Positive rate can be calculated as\n",
    "Rate = TP/TP+FN\n",
    "Where\n",
    "TP = Total true positives\n",
    "FN = Total False Negatives\n"
   ]
  },
  {
   "cell_type": "markdown",
   "metadata": {
    "id": "4kT2MV8l-E2G"
   },
   "source": [
    "For Naive Bayes"
   ]
  },
  {
   "cell_type": "code",
   "execution_count": 76,
   "metadata": {
    "colab": {
     "base_uri": "https://localhost:8080/"
    },
    "id": "pHnuzKlT-E2G",
    "outputId": "d522fe9b-ca69-42db-b809-c0622f13dbaf"
   },
   "outputs": [
    {
     "name": "stdout",
     "output_type": "stream",
     "text": [
      "True Positive rate for naive bayes is:  0.3080751771367063\n"
     ]
    }
   ],
   "source": [
    "cnf_matrix = metrics.confusion_matrix(y_test, y_pred_nb)\n",
    "\n",
    "fp_nb = cnf_matrix.sum(axis=0) - numpy.diag(cnf_matrix)  \n",
    "fn_nb = cnf_matrix.sum(axis=1) - numpy.diag(cnf_matrix)\n",
    "tp_nb = numpy.diag(cnf_matrix)\n",
    "tn_nb = cnf_matrix.sum() - (fp_nb + fp_nb + fp_nb)\n",
    "\n",
    "fp_nb = fp_nb.astype(float)\n",
    "fn_nb = fn_nb.astype(float)\n",
    "tp_nb = tp_nb.astype(float)\n",
    "tn_nb = tn_nb.astype(float)\n",
    "\n",
    "TPR_nb = tp_nb/(tp_nb+fn_nb)\n",
    "tpr_nb =0\n",
    "for i in TPR_nb:\n",
    "  tpr_nb +=i\n",
    "tpr_nb = tpr_nb/len(TPR_nb)   \n",
    "print(\"True Positive rate for naive bayes is: \", tpr_nb)  "
   ]
  },
  {
   "cell_type": "markdown",
   "metadata": {
    "id": "y2MsUnO1-E2G"
   },
   "source": [
    "For Decision Trees"
   ]
  },
  {
   "cell_type": "code",
   "execution_count": 77,
   "metadata": {
    "colab": {
     "base_uri": "https://localhost:8080/"
    },
    "id": "BY9QVng6-E2G",
    "outputId": "06cf24f6-9107-498d-8f3c-1a147b6a4c8e"
   },
   "outputs": [
    {
     "name": "stdout",
     "output_type": "stream",
     "text": [
      "True Positive rate for naive bayes is:  0.7713709050999918\n"
     ]
    }
   ],
   "source": [
    "cnf_matrix = metrics.confusion_matrix(y_test, y_pred_dt)\n",
    "\n",
    "fp_dt = cnf_matrix.sum(axis=0) - numpy.diag(cnf_matrix)  \n",
    "fn_dt = cnf_matrix.sum(axis=1) - numpy.diag(cnf_matrix)\n",
    "tp_dt = numpy.diag(cnf_matrix)\n",
    "tn_dt = cnf_matrix.sum() - (fp_dt + fp_dt + fp_dt)\n",
    "\n",
    "fp_dt = fp_dt.astype(float)\n",
    "fn_dt = fn_dt.astype(float)\n",
    "tp_dt = tp_dt.astype(float)\n",
    "tn_dt = tn_dt.astype(float)\n",
    "\n",
    "TPR_dt = tp_dt/(tp_dt+fn_dt)\n",
    "tpr_dt =0\n",
    "for i in TPR_dt:\n",
    "  tpr_dt +=i\n",
    "tpr_dt = tpr_dt/len(TPR_dt)   \n",
    "print(\"True Positive rate for naive bayes is: \", tpr_dt)  "
   ]
  },
  {
   "cell_type": "markdown",
   "metadata": {
    "id": "1pnIBZ2e-E2H"
   },
   "source": [
    "**False Positive Rate (Specificity)**\n",
    "\n",
    "\n",
    "---\n",
    "False Positive rate can be calculated as\n",
    "False Positive Rate = FP/FP+TN\n",
    "Where\n",
    "FP = Total False positives\n",
    "TN = Total True Negatives\n"
   ]
  },
  {
   "cell_type": "markdown",
   "metadata": {
    "id": "vRzDqnJy-E2H"
   },
   "source": [
    "For Naive Bayes"
   ]
  },
  {
   "cell_type": "code",
   "execution_count": 78,
   "metadata": {
    "colab": {
     "base_uri": "https://localhost:8080/"
    },
    "id": "qQ8OqcQf-E2H",
    "outputId": "be08a72e-53a2-41c2-de3d-541d4533fe13"
   },
   "outputs": [
    {
     "name": "stdout",
     "output_type": "stream",
     "text": [
      "False Positive rate for naive bayes is:  0.12155259517259376\n"
     ]
    }
   ],
   "source": [
    "FPR_nb = fp_nb/(fp_nb+tn_nb)\n",
    "fpr_nb =0\n",
    "for i in FPR_nb:\n",
    "  fpr_nb +=i\n",
    "fpr_nb = fpr_nb/len(FPR_nb)\n",
    "print(\"False Positive rate for naive bayes is: \", fpr_nb)  "
   ]
  },
  {
   "cell_type": "markdown",
   "metadata": {
    "id": "ozR22MoN-E2I"
   },
   "source": [
    "For Decision Trees"
   ]
  },
  {
   "cell_type": "code",
   "execution_count": 79,
   "metadata": {
    "colab": {
     "base_uri": "https://localhost:8080/"
    },
    "id": "nlxeTROb-E2I",
    "outputId": "d2d8c0c7-4298-445e-92a4-5bad2dc9bfce"
   },
   "outputs": [
    {
     "name": "stdout",
     "output_type": "stream",
     "text": [
      "False Positive rate for naive bayes is:  0.02670439516581911\n"
     ]
    }
   ],
   "source": [
    "FPR_dt = fp_dt/(fp_dt+tn_dt)\n",
    "fpr_dt =0\n",
    "for i in FPR_dt:\n",
    "  fpr_dt +=i\n",
    "fpr_dt = fpr_dt/len(FPR_dt)\n",
    "print(\"False Positive rate for naive bayes is: \", fpr_dt)  "
   ]
  },
  {
   "cell_type": "markdown",
   "metadata": {
    "id": "y1iDVpleJE-3"
   },
   "source": [
    "**ROC Curve**\n",
    "\n",
    "---\n",
    "\n"
   ]
  },
  {
   "cell_type": "code",
   "execution_count": 80,
   "metadata": {
    "colab": {
     "base_uri": "https://localhost:8080/",
     "height": 301
    },
    "id": "odHjztGiF9ZF",
    "outputId": "e5e0cef8-1b19-4d11-eac5-7b8a22380c3a"
   },
   "outputs": [
    {
     "data": {
      "image/png": "[encoded data removed]",
      "text/plain": [
       "<Figure size 432x288 with 1 Axes>"
      ]
     },
     "metadata": {
      "tags": []
     },
     "output_type": "display_data"
    }
   ],
   "source": [
    "plt.plot(FPR_nb,TPR_nb, color='orange', label='ROC')\n",
    "plt.plot([0, 1], [0, 1], color='darkblue', linestyle='--')\n",
    "plt.xlabel('False Positive Rate')\n",
    "plt.ylabel('True Positive Rate')\n",
    "plt.title('ROC Curve for Naive Bayes')\n",
    "plt.legend()\n",
    "plt.show()"
   ]
  },
  {
   "cell_type": "code",
   "execution_count": 81,
   "metadata": {
    "colab": {
     "base_uri": "https://localhost:8080/",
     "height": 301
    },
    "id": "lj9Qjl2hJW7l",
    "outputId": "b8708213-8b8f-49f9-af3a-12763ed14dd1"
   },
   "outputs": [
    {
     "data": {
      "image/png": "[encoded data removed]",
      "text/plain": [
       "<Figure size 432x288 with 1 Axes>"
      ]
     },
     "metadata": {
      "tags": []
     },
     "output_type": "display_data"
    }
   ],
   "source": [
    "plt.plot(FPR_dt,TPR_dt, color='orange', label='ROC')\n",
    "plt.plot([0, 1], [0, 1], color='darkblue', linestyle='--')\n",
    "plt.xlabel('False Positive Rate')\n",
    "plt.ylabel('True Positive Rate')\n",
    "plt.title('ROC Curve for Decision Trees')\n",
    "plt.legend()\n",
    "plt.show()"
   ]
  },
  {
   "cell_type": "markdown",
   "metadata": {
    "id": "ruYohWWw-E2I"
   },
   "source": [
    "**Classification Report**\n",
    "\n",
    "\n",
    "---\n",
    "\n"
   ]
  },
  {
   "cell_type": "markdown",
   "metadata": {
    "id": "_DjkdPSO-E2I"
   },
   "source": [
    "For Naive Bayes"
   ]
  },
  {
   "cell_type": "code",
   "execution_count": 82,
   "metadata": {
    "colab": {
     "base_uri": "https://localhost:8080/"
    },
    "id": "MVgclUvo-E2J",
    "outputId": "771ea4cf-7bd7-4b28-a476-e8f8063857e1"
   },
   "outputs": [
    {
     "name": "stderr",
     "output_type": "stream",
     "text": [
      "/usr/local/lib/python3.6/dist-packages/sklearn/metrics/_classification.py:1272: UndefinedMetricWarning: Precision and F-score are ill-defined and being set to 0.0 in labels with no predicted samples. Use `zero_division` parameter to control this behavior.\n",
      "  _warn_prf(average, modifier, msg_start, len(result))\n"
     ]
    },
    {
     "name": "stdout",
     "output_type": "stream",
     "text": [
      "                       precision    recall  f1-score   support\n",
      "\n",
      "    Mirai-Ackflooding       0.00      0.00      0.00     16435\n",
      "      DoS-Synflooding       0.31      0.98      0.48     17643\n",
      "         Scan Port OS       0.00      0.00      0.00     15994\n",
      "Mirai-Hostbruteforceg       0.48      0.14      0.22     36415\n",
      "   Mirai-UDP Flooding       0.46      0.82      0.59     55040\n",
      "  Mirai-HTTP Flooding       0.00      0.00      0.00     16794\n",
      "               Normal       0.58      0.82      0.68     12115\n",
      "        Scan Hostport       0.00      0.00      0.00      6620\n",
      "    MITM ARP Spoofing       0.00      0.00      0.00     10679\n",
      "\n",
      "             accuracy                           0.41    187735\n",
      "            macro avg       0.20      0.31      0.22    187735\n",
      "         weighted avg       0.30      0.41      0.30    187735\n",
      "\n"
     ]
    }
   ],
   "source": [
    "print(metrics.classification_report(y_test, y_pred_nb, labels=['Mirai-Ackflooding','DoS-Synflooding','Scan Port OS','Mirai-Hostbruteforceg','Mirai-UDP Flooding','Mirai-HTTP Flooding','Normal','Scan Hostport','MITM ARP Spoofing']))"
   ]
  },
  {
   "cell_type": "markdown",
   "metadata": {
    "id": "u_YGg_OU-E2J"
   },
   "source": [
    "For Decision Trees"
   ]
  },
  {
   "cell_type": "code",
   "execution_count": 83,
   "metadata": {
    "colab": {
     "base_uri": "https://localhost:8080/"
    },
    "id": "DfI_XDg0-E2J",
    "outputId": "73aac3fa-e20c-4402-b0b3-3bd5e701a941"
   },
   "outputs": [
    {
     "name": "stdout",
     "output_type": "stream",
     "text": [
      "                       precision    recall  f1-score   support\n",
      "\n",
      "    Mirai-Ackflooding       0.27      0.34      0.30     16435\n",
      "      DoS-Synflooding       1.00      1.00      1.00     17643\n",
      "         Scan Port OS       0.86      0.97      0.91     15994\n",
      "Mirai-Hostbruteforceg       1.00      1.00      1.00     36415\n",
      "   Mirai-UDP Flooding       0.81      0.77      0.79     55040\n",
      "  Mirai-HTTP Flooding       0.27      0.25      0.26     16794\n",
      "               Normal       1.00      1.00      1.00     12115\n",
      "        Scan Hostport       0.90      0.63      0.74      6620\n",
      "    MITM ARP Spoofing       0.99      0.99      0.99     10679\n",
      "\n",
      "             accuracy                           0.79    187735\n",
      "            macro avg       0.79      0.77      0.78    187735\n",
      "         weighted avg       0.80      0.79      0.79    187735\n",
      "\n"
     ]
    }
   ],
   "source": [
    "print(metrics.classification_report(y_test, y_pred_dt, labels=['Mirai-Ackflooding','DoS-Synflooding','Scan Port OS','Mirai-Hostbruteforceg','Mirai-UDP Flooding','Mirai-HTTP Flooding','Normal','Scan Hostport','MITM ARP Spoofing']))"
   ]
  },
  {
   "cell_type": "markdown",
   "metadata": {
    "id": "98ZUBGV1-E2J"
   },
   "source": [
    "**Predictions**\n",
    "\n",
    "\n",
    "---\n",
    "\n"
   ]
  },
  {
   "cell_type": "markdown",
   "metadata": {
    "id": "Zm26kEqFGzSO"
   },
   "source": [
    "Now testing the multi class model's accuracy and checking a sample sub category."
   ]
  },
  {
   "cell_type": "code",
   "execution_count": 84,
   "metadata": {
    "colab": {
     "base_uri": "https://localhost:8080/"
    },
    "id": "DdEH95K2G7p0",
    "outputId": "7ba79342-046f-4ae6-f45e-14bc94009b2c"
   },
   "outputs": [
    {
     "data": {
      "text/plain": [
       "array(['Normal'], dtype='<U21')"
      ]
     },
     "execution_count": 84,
     "metadata": {
      "tags": []
     },
     "output_type": "execute_result"
    }
   ],
   "source": [
    "gnb.predict([[int(ipaddress.ip_address('192.168.0.13')),9020,int(ipaddress.ip_address('192.168.0.16')),49784,6,120]])"
   ]
  },
  {
   "cell_type": "code",
   "execution_count": 85,
   "metadata": {
    "colab": {
     "base_uri": "https://localhost:8080/"
    },
    "id": "mPCgYyQoGQSl",
    "outputId": "987b1fcf-a56c-485a-af90-7ac7b263eee1"
   },
   "outputs": [
    {
     "data": {
      "text/plain": [
       "array(['Normal'], dtype=object)"
      ]
     },
     "execution_count": 85,
     "metadata": {
      "tags": []
     },
     "output_type": "execute_result"
    }
   ],
   "source": [
    "dt.predict([[int(ipaddress.ip_address('192.168.0.13')),9020,int(ipaddress.ip_address('192.168.0.16')),49784,6,120]])"
   ]
  },
  {
   "cell_type": "markdown",
   "metadata": {
    "id": "sm-ejIczG-5u"
   },
   "source": [
    "Both the models are predicting the sub category as expected for the test value, the acuuracy is 41.4% for naive bayes and 78.9% for decision trees. Both can be improved."
   ]
  }
 ],
 "metadata": {
  "colab": {
   "collapsed_sections": [],
   "name": "ML Assignment4.ipynb",
   "provenance": []
  },
  "kernelspec": {
   "display_name": "Python 3",
   "language": "python",
   "name": "python3"
  },
  "language_info": {
   "codemirror_mode": {
    "name": "ipython",
    "version": 3
   },
   "file_extension": ".py",
   "mimetype": "text/x-python",
   "name": "python",
   "nbconvert_exporter": "python",
   "pygments_lexer": "ipython3",
   "version": "3.8.3"
  }
 },
 "nbformat": 4,
 "nbformat_minor": 1
}
