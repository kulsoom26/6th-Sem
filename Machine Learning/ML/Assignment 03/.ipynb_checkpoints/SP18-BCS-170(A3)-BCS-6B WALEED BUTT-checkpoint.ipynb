{
 "cells": [
  {
   "cell_type": "markdown",
   "metadata": {},
   "source": [
    "# Assignment 03 Machine Learning\n",
    "\n",
    "## Name: Waleed Butt\n",
    "\n",
    "## Reg# SP18-BCS-170\n",
    "\n",
    "## BCS-6B"
   ]
  },
  {
   "cell_type": "code",
   "execution_count": 4,
   "metadata": {
    "colab": {
     "base_uri": "https://localhost:8080/"
    },
    "executionInfo": {
     "elapsed": 49905,
     "status": "ok",
     "timestamp": 1605928831454,
     "user": {
      "displayName": "Waleed Butt",
      "photoUrl": "https://lh3.googleusercontent.com/a-/AOh14GgcYtFQ58w_VLNnyvXSFDWAvpnqu1sYBSvDTaFkSA=s64",
      "userId": "12776319714733190762"
     },
     "user_tz": -300
    },
    "id": "YK6Kn0qOT-R4",
    "outputId": "1956c718-030e-4edf-d987-b027d0272efa"
   },
   "outputs": [],
   "source": [
    "import numpy as np\n",
    "import pandas as pd\n",
    "\n",
    "\n",
    "# Loading Data\n",
    "\n",
    "# Google Drive\n",
    "# from google.colab import drive\n",
    "# drive.mount('/content/drive')\n",
    "# main_frame = pd.read_csv('/content/drive/My Drive/Colab Notebooks/IoT Intrusion Dataset 2020.csv')\n",
    "\n",
    "# Windows Offline\n",
    "main_frame = pd.read_csv('C:\\\\users\\\\walee\\\\Google Drive\\\\sp18-bcs-170\\\\Colab Notebooks\\\\Iot\\\\IoT Intrusion Dataset 2020.csv')\n",
    "\n",
    "# Getting the indexes of the columns to use for training.\n",
    "# Exclude the column if it is of object type.\n",
    "# Only use integers and floats\n",
    "data_columns = [main_frame.columns.get_loc(x) for x in main_frame.columns if main_frame[x].dtype != 'object']"
   ]
  },
  {
   "cell_type": "markdown",
   "metadata": {},
   "source": [
    "## Part A, Label column as Output (Binary Classification)"
   ]
  },
  {
   "cell_type": "code",
   "execution_count": 6,
   "metadata": {
    "executionInfo": {
     "elapsed": 49900,
     "status": "ok",
     "timestamp": 1605928831457,
     "user": {
      "displayName": "Waleed Butt",
      "photoUrl": "https://lh3.googleusercontent.com/a-/AOh14GgcYtFQ58w_VLNnyvXSFDWAvpnqu1sYBSvDTaFkSA=s64",
      "userId": "12776319714733190762"
     },
     "user_tz": -300
    },
    "id": "j9w8xUh3WoFR"
   },
   "outputs": [],
   "source": [
    "# Deciding amount of data kept for testing (40%)\n",
    "train_length = int(len(main_frame)*0.4)\n",
    "\n",
    "# Data To Train Our Model with labels\n",
    "train_data, train_label = main_frame.iloc[:-train_length, data_columns], main_frame.Label[:-train_length]\n",
    "\n",
    "# Data to Test Our Model Later\n",
    "test_data, test_label = main_frame.iloc[-train_length:, data_columns], main_frame.Label[-train_length:]\n",
    "\n",
    "### Replacing Anomoly with 0 else 1\n",
    "train_label = train_label.apply(lambda x: 1 if (x == 'Anomaly') else 0)\n",
    "test_label = test_label.apply(lambda x: 1 if (x == 'Anomaly') else 0)\n",
    "\n",
    "train_data = train_data.astype('float32')\n",
    "test_data = test_data.astype('float32')"
   ]
  },
  {
   "cell_type": "markdown",
   "metadata": {},
   "source": [
    "### Naive Bayes"
   ]
  },
  {
   "cell_type": "code",
   "execution_count": 7,
   "metadata": {},
   "outputs": [],
   "source": [
    "# training the model on training set \n",
    "from sklearn.naive_bayes import BernoulliNB\n",
    "gnb = BernoulliNB() \n",
    "gnb.fit(np.nan_to_num(train_data), train_label)\n",
    "\n",
    "# making predictions on the testing set \n",
    "y_pred = gnb.predict(np.nan_to_num(test_data))"
   ]
  },
  {
   "cell_type": "markdown",
   "metadata": {},
   "source": [
    "### Decision Trees"
   ]
  },
  {
   "cell_type": "code",
   "execution_count": 8,
   "metadata": {},
   "outputs": [],
   "source": [
    "# training a DescisionTreeClassifier \n",
    "from sklearn.tree import DecisionTreeClassifier \n",
    "\n",
    "dtree_model = DecisionTreeClassifier(max_depth = 2).fit(np.nan_to_num(train_data), np.nan_to_num(train_label)) \n",
    "\n",
    "dtree_predictions = dtree_model.predict(np.nan_to_num(test_data))"
   ]
  },
  {
   "cell_type": "markdown",
   "metadata": {},
   "source": [
    "### Accuracy"
   ]
  },
  {
   "cell_type": "code",
   "execution_count": 9,
   "metadata": {},
   "outputs": [
    {
     "name": "stdout",
     "output_type": "stream",
     "text": [
      "Gaussian Naive Bayes: 89.47518 %\n",
      "Decision tree Classifier: 98.64729 %\n"
     ]
    }
   ],
   "source": [
    "from sklearn import metrics \n",
    "print(\"Gaussian Naive Bayes: {:.5f} %\".format(metrics.accuracy_score(test_label, y_pred)*100))\n",
    "\n",
    "print(\"Decision tree Classifier: {:.5f} %\".format(metrics.accuracy_score(test_label, dtree_predictions)*100))"
   ]
  },
  {
   "cell_type": "markdown",
   "metadata": {},
   "source": [
    "### Precision"
   ]
  },
  {
   "cell_type": "code",
   "execution_count": 10,
   "metadata": {},
   "outputs": [
    {
     "name": "stdout",
     "output_type": "stream",
     "text": [
      "Gaussian Naive Bayes\n",
      "Class 0: 0.27852750256235054, Class 1: 0.9583467388286315\n",
      "Decision Tree\n",
      "Class 0: 0.9996030800984361, Class 1: 0.9857771458378906\n"
     ]
    }
   ],
   "source": [
    "precision = metrics.precision_score(test_label, y_pred, average=None)\n",
    "precision2 = metrics.precision_score(test_label, dtree_predictions, average=None)\n",
    "\n",
    "print(\"Gaussian Naive Bayes\\nClass 0: {}, Class 1: {}\".format(precision[0], precision[1]))\n",
    "print(\"Decision Tree\\nClass 0: {}, Class 1: {}\".format(precision2[0], precision2[1]))"
   ]
  },
  {
   "cell_type": "markdown",
   "metadata": {},
   "source": [
    "### Recall"
   ]
  },
  {
   "cell_type": "code",
   "execution_count": 11,
   "metadata": {},
   "outputs": [
    {
     "name": "stdout",
     "output_type": "stream",
     "text": [
      "Gaussian Naive Bayes: 92.7908%\n",
      "Decision Tree: 99.9979%\n"
     ]
    }
   ],
   "source": [
    "print(\"Gaussian Naive Bayes: {:.4f}%\".format(metrics.recall_score(test_label, y_pred)*100))\n",
    "\n",
    "print(\"Decision Tree: {:.4f}%\".format(metrics.recall_score(test_label, dtree_predictions)*100))"
   ]
  },
  {
   "cell_type": "markdown",
   "metadata": {},
   "source": [
    "### F measure"
   ]
  },
  {
   "cell_type": "code",
   "execution_count": 12,
   "metadata": {},
   "outputs": [
    {
     "name": "stdout",
     "output_type": "stream",
     "text": [
      "Gaussian Naive Bayes: 95.2100%\n",
      "Decision Tree: 98.8585%\n"
     ]
    }
   ],
   "source": [
    "print(\"Gaussian Naive Bayes: {:.4f}%\".format(metrics.fbeta_score(test_label, y_pred, beta=0.5)*100))\n",
    "\n",
    "print(\"Decision Tree: {:.4f}%\".format(metrics.fbeta_score(test_label, dtree_predictions, beta=0.5)*100))"
   ]
  },
  {
   "cell_type": "markdown",
   "metadata": {},
   "source": [
    "### F1 Score"
   ]
  },
  {
   "cell_type": "code",
   "execution_count": 13,
   "metadata": {},
   "outputs": [
    {
     "name": "stdout",
     "output_type": "stream",
     "text": [
      "Gaussian Naive Bayes\n",
      "Class 0: 0.33115844525121224, Class 1: 0.942881859000904\n",
      "Decision Tree\n",
      "Class 0: 0.8814840742037102, Class 1: 0.9928271222058399\n"
     ]
    }
   ],
   "source": [
    "f1score = metrics.f1_score(test_label, y_pred, average=None)\n",
    "f1score2 = metrics.f1_score(test_label, dtree_predictions, average=None)\n",
    "\n",
    "print(\"Gaussian Naive Bayes\\nClass 0: {}, Class 1: {}\".format(f1score[0], f1score[1]))\n",
    "print(\"Decision Tree\\nClass 0: {}, Class 1: {}\".format(f1score2[0], f1score2[1]))"
   ]
  },
  {
   "cell_type": "markdown",
   "metadata": {},
   "source": [
    "### Roc Curves"
   ]
  },
  {
   "cell_type": "code",
   "execution_count": 17,
   "metadata": {},
   "outputs": [
    {
     "name": "stdout",
     "output_type": "stream",
     "text": [
      "Gaussian Naive Bayes\n",
      "(array([0.        , 0.59168597, 1.        ]), array([0.        , 0.92790817, 1.        ]), array([2, 1, 0], dtype=int64))\n",
      "Decision Tree\n",
      "(array([0.        , 0.21166969, 1.        ]), array([0.        , 0.99997866, 1.        ]), array([2, 1, 0], dtype=int64))\n"
     ]
    },
    {
     "data": {
      "image/png": "[encoded data removed]",
      "text/plain": [
       "<Figure size 432x288 with 1 Axes>"
      ]
     },
     "metadata": {
      "needs_background": "light"
     },
     "output_type": "display_data"
    },
    {
     "data": {
      "image/png": "[encoded data removed]",
      "text/plain": [
       "<Figure size 432x288 with 1 Axes>"
      ]
     },
     "metadata": {
      "needs_background": "light"
     },
     "output_type": "display_data"
    }
   ],
   "source": [
    "roc_curve1 = metrics.roc_curve(test_label, y_pred)\n",
    "roc_curve2 = metrics.roc_curve(test_label, dtree_predictions)\n",
    "\n",
    "print(\"Gaussian Naive Bayes\\n{}\".format(roc_curve1))\n",
    "print(\"Decision Tree\\n{}\".format(roc_curve2))\n",
    "\n",
    "import matplotlib.pyplot as plt\n",
    "plt.plot(roc_curve1)\n",
    "plt.title('Gaussian Naive Bayes Roc Curves')\n",
    "plt.show()\n",
    "plt.plot(roc_curve2)\n",
    "plt.title('Decision Tree Roc Curve')\n",
    "plt.show()"
   ]
  },
  {
   "cell_type": "markdown",
   "metadata": {},
   "source": [
    "### Confusion matrix"
   ]
  },
  {
   "cell_type": "code",
   "execution_count": 18,
   "metadata": {},
   "outputs": [
    {
     "name": "stdout",
     "output_type": "stream",
     "text": [
      "Gaussian Naive Bayes\n",
      "[[  6522   9451]\n",
      " [ 16894 217446]]\n",
      "Decision Tree\n",
      "[[ 12592   3381]\n",
      " [     5 234335]]\n"
     ]
    }
   ],
   "source": [
    "print(\"Gaussian Naive Bayes\\n{}\".format(metrics.confusion_matrix(test_label, y_pred)))\n",
    "print(\"Decision Tree\\n{}\".format(metrics.confusion_matrix(test_label, dtree_predictions)))"
   ]
  },
  {
   "cell_type": "markdown",
   "metadata": {},
   "source": [
    "### True Positive Rate"
   ]
  },
  {
   "cell_type": "code",
   "execution_count": 19,
   "metadata": {},
   "outputs": [
    {
     "name": "stdout",
     "output_type": "stream",
     "text": [
      "Gaussian Naive Bayes: 6522\n",
      "Decision Tree: 12592\n"
     ]
    }
   ],
   "source": [
    "print(\"Gaussian Naive Bayes: {}\".format(metrics.confusion_matrix(test_label, y_pred)[0][0]))\n",
    "print(\"Decision Tree: {}\".format(metrics.confusion_matrix(test_label, dtree_predictions)[0][0]))"
   ]
  },
  {
   "cell_type": "markdown",
   "metadata": {},
   "source": [
    "### False Positive Rate"
   ]
  },
  {
   "cell_type": "code",
   "execution_count": 20,
   "metadata": {},
   "outputs": [
    {
     "name": "stdout",
     "output_type": "stream",
     "text": [
      "Gaussian Naive Bayes: 16894\n",
      "Decision Tree: 5\n"
     ]
    }
   ],
   "source": [
    "print(\"Gaussian Naive Bayes: {}\".format(metrics.confusion_matrix(test_label, y_pred)[1][0]))\n",
    "print(\"Decision Tree: {}\".format(metrics.confusion_matrix(test_label, dtree_predictions)[1][0]))"
   ]
  },
  {
   "cell_type": "markdown",
   "metadata": {},
   "source": [
    "### Sensitivity"
   ]
  },
  {
   "cell_type": "code",
   "execution_count": null,
   "metadata": {},
   "outputs": [],
   "source": [
    "metrics.s"
   ]
  },
  {
   "cell_type": "markdown",
   "metadata": {},
   "source": [
    "### Specificity"
   ]
  },
  {
   "cell_type": "markdown",
   "metadata": {},
   "source": [
    "## Part B, Sub Category as Output (Multi Classifier)"
   ]
  },
  {
   "cell_type": "code",
   "execution_count": 21,
   "metadata": {},
   "outputs": [],
   "source": [
    "# Deciding amount of data kept for testing (20%)\n",
    "train_length = int(len(main_frame)*0.2)\n",
    "\n",
    "# Data To Train Our Model with labels\n",
    "train_data, train_label = main_frame.iloc[:-train_length, data_columns], main_frame.Sub_Cat[:-train_length]\n",
    "\n",
    "# Data to Test Our Model Later\n",
    "test_data, test_label = main_frame.iloc[-train_length:, data_columns], main_frame.Sub_Cat[-train_length:]\n",
    "\n",
    "### Replacing String with floats\n",
    "train_label = train_label.replace(main_frame.Sub_Cat.unique(), [0, 1, 2, 3, 4, 5, 6, 7, 8])\n",
    "test_label = test_label.replace(main_frame.Sub_Cat.unique(), [0, 1, 2, 3, 4, 5, 6, 7, 8])\n",
    "\n",
    "# Converting to float32\n",
    "train_data = train_data.astype('float32')\n",
    "test_data = test_data.astype('float32')"
   ]
  },
  {
   "cell_type": "markdown",
   "metadata": {},
   "source": [
    "### Naive Bayes"
   ]
  },
  {
   "cell_type": "code",
   "execution_count": 22,
   "metadata": {},
   "outputs": [
    {
     "name": "stdout",
     "output_type": "stream",
     "text": [
      "Bernoulli Naive Bayes model accuracy 43.98%: \n"
     ]
    }
   ],
   "source": [
    "# training the model on training set \n",
    "from sklearn.naive_bayes import BernoulliNB\n",
    "\n",
    "X = np.nan_to_num(train_data.abs())\n",
    "y = train_label\n",
    "\n",
    "gnb = BernoulliNB().fit(X, y) \n",
    "\n",
    "# making predictions on the testing set \n",
    "y_pred = gnb.predict(np.nan_to_num(test_data.abs()))\n",
    "\n",
    "# comparing actual response values (y_test) with predicted response values (y_pred) \n",
    "from sklearn import metrics \n",
    "print(\"Bernoulli Naive Bayes model accuracy {:.2f}%: \".format(metrics.accuracy_score(test_label, y_pred)*100))"
   ]
  },
  {
   "cell_type": "markdown",
   "metadata": {},
   "source": [
    "### Decision Trees"
   ]
  },
  {
   "cell_type": "code",
   "execution_count": 23,
   "metadata": {},
   "outputs": [
    {
     "name": "stdout",
     "output_type": "stream",
     "text": [
      "Decision tree Regressor model accuracy 52.51 %\n"
     ]
    }
   ],
   "source": [
    "# training a KNN classifier \n",
    "from sklearn.tree import DecisionTreeRegressor\n",
    "\n",
    "X_train = np.nan_to_num(train_data.abs())\n",
    "y_train = train_label\n",
    "\n",
    "X_test = np.nan_to_num(test_data.abs())\n",
    "y_test = test_label\n",
    "\n",
    "dtr = DecisionTreeRegressor().fit(X_train, y_train) \n",
    "\n",
    "# accuracy on X_test \n",
    "accuracy = dtr.score(X_test, y_test)\n",
    "print(\"Decision tree Regressor model accuracy {:.2f} %\".format(accuracy*100))"
   ]
  },
  {
   "cell_type": "code",
   "execution_count": null,
   "metadata": {},
   "outputs": [],
   "source": []
  }
 ],
 "metadata": {
  "colab": {
   "collapsed_sections": [],
   "name": "SP18-BCS-170(A2)-BCS-6B WALEED BUTT.ipynb",
   "provenance": []
  },
  "kernelspec": {
   "display_name": "Python 3",
   "language": "python",
   "name": "python3"
  },
  "language_info": {
   "codemirror_mode": {
    "name": "ipython",
    "version": 3
   },
   "file_extension": ".py",
   "mimetype": "text/x-python",
   "name": "python",
   "nbconvert_exporter": "python",
   "pygments_lexer": "ipython3",
   "version": "3.8.3"
  }
 },
 "nbformat": 4,
 "nbformat_minor": 1
}
