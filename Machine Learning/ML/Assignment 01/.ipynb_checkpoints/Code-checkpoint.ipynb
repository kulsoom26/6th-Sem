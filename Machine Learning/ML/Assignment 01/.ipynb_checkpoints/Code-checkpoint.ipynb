{
 "cells": [
  {
   "cell_type": "code",
   "execution_count": 74,
   "metadata": {
    "scrolled": true
   },
   "outputs": [],
   "source": [
    "import numpy as np\n",
    "import pandas as pd\n",
    "Metadata = pd.read_csv('./train/Metadata.csv')"
   ]
  },
  {
   "cell_type": "code",
   "execution_count": 75,
   "metadata": {},
   "outputs": [],
   "source": [
    "from tensorflow import keras\n",
    "from keras.preprocessing.image import load_img\n",
    "from keras.preprocessing.image import img_to_array\n",
    "import glob"
   ]
  },
  {
   "cell_type": "code",
   "execution_count": 96,
   "metadata": {},
   "outputs": [],
   "source": [
    "x = 150\n",
    "y = 150"
   ]
  },
  {
   "cell_type": "code",
   "execution_count": 97,
   "metadata": {
    "scrolled": true
   },
   "outputs": [],
   "source": [
    "train_data = np.stack(\n",
    "    [img_to_array(\n",
    "        load_img(glob.glob(\"./train\\\\*\\\\\"+i+\"*.tiff\")[0], target_size=(x, y, 3))) for i in Metadata['image'][:600]])\n",
    "\n",
    "#Reshaping\n",
    "train_data = train_data.reshape( len(train_data), x*y*3 )\n",
    "\n",
    "#Normalizing\n",
    "train_data = train_data / 255.0"
   ]
  },
  {
   "cell_type": "code",
   "execution_count": 98,
   "metadata": {},
   "outputs": [],
   "source": [
    "train_labels = np.array(Metadata['stage'][:600])"
   ]
  },
  {
   "cell_type": "code",
   "execution_count": 99,
   "metadata": {
    "scrolled": true
   },
   "outputs": [],
   "source": [
    "test_data = np.stack(\n",
    "    [img_to_array(\n",
    "        load_img(glob.glob(\"./train\\\\*\\\\\"+i+\"*.tiff\")[0], target_size=(x, y, 3))) for i in Metadata['image'][600:]])\n",
    "\n",
    "#Reshaping\n",
    "test_data = test_data.reshape( len(test_data), x*y*3 )\n",
    "\n",
    "#Normalizing\n",
    "test_data = test_data / 255.0"
   ]
  },
  {
   "cell_type": "code",
   "execution_count": 100,
   "metadata": {},
   "outputs": [],
   "source": [
    "test_labels = np.array(Metadata['stage'][600:])"
   ]
  },
  {
   "cell_type": "code",
   "execution_count": 101,
   "metadata": {},
   "outputs": [],
   "source": [
    "from keras import models\n",
    "from keras import layers\n",
    "network = models.Sequential()\n",
    "network.add(layers.Dense(512, activation='relu', input_shape=(x * y * 3,)))\n",
    "network.add(layers.Dense(256, activation='relu'))\n",
    "network.add(layers.Dense(64, activation='relu'))\n",
    "network.add(layers.Dense(3, activation='softmax'))"
   ]
  },
  {
   "cell_type": "code",
   "execution_count": 102,
   "metadata": {},
   "outputs": [],
   "source": [
    "temp = []\n",
    "for i in range(len(train_labels)):\n",
    "    \n",
    "    if train_labels[i] == \"Long-duration\":\n",
    "        temp.append(0)\n",
    "    elif train_labels[i] == \"Non-diabetic\":\n",
    "        temp.append(1)\n",
    "    else:\n",
    "        temp.append(2)\n",
    "\n",
    "train_labels = to_categorical(np.array(temp))"
   ]
  },
  {
   "cell_type": "code",
   "execution_count": 103,
   "metadata": {
    "scrolled": true
   },
   "outputs": [],
   "source": [
    "temp = []\n",
    "for i in range(len(test_labels)):\n",
    "    \n",
    "    if test_labels[i] == \"Long-duration\":\n",
    "        temp.append(0)\n",
    "    elif test_labels[i] == \"Non-diabetic\":\n",
    "        temp.append(1)\n",
    "    else:\n",
    "        temp.append(2)\n",
    "\n",
    "test_labels = to_categorical(np.array(temp))"
   ]
  },
  {
   "cell_type": "code",
   "execution_count": 104,
   "metadata": {},
   "outputs": [],
   "source": [
    "network.compile(optimizer='rmsprop',loss='categorical_crossentropy',metrics=['accuracy'])"
   ]
  },
  {
   "cell_type": "code",
   "execution_count": 105,
   "metadata": {},
   "outputs": [
    {
     "name": "stdout",
     "output_type": "stream",
     "text": [
      "Epoch 1/5\n",
      "5/5 [==============================] - 4s 779ms/step - loss: 8.2973 - accuracy: 0.3433\n",
      "Epoch 2/5\n",
      "5/5 [==============================] - 3s 591ms/step - loss: 3.2754 - accuracy: 0.3950\n",
      "Epoch 3/5\n",
      "5/5 [==============================] - 3s 600ms/step - loss: 1.9129 - accuracy: 0.3533\n",
      "Epoch 4/5\n",
      "5/5 [==============================] - 3s 576ms/step - loss: 1.3953 - accuracy: 0.4333\n",
      "Epoch 5/5\n",
      "5/5 [==============================] - 3s 625ms/step - loss: 1.5396 - accuracy: 0.4017\n"
     ]
    },
    {
     "data": {
      "text/plain": [
       "<tensorflow.python.keras.callbacks.History at 0x2617c5d9430>"
      ]
     },
     "execution_count": 105,
     "metadata": {},
     "output_type": "execute_result"
    }
   ],
   "source": [
    "network.fit(train_data, train_labels, epochs=5, batch_size=128)"
   ]
  },
  {
   "cell_type": "code",
   "execution_count": 106,
   "metadata": {},
   "outputs": [
    {
     "name": "stdout",
     "output_type": "stream",
     "text": [
      "8/8 [==============================] - 0s 46ms/step - loss: 1.2941 - accuracy: 0.4122\n",
      "test_acc: 0.41224488615989685\n",
      "test_loss: 1.2940518856048584\n"
     ]
    }
   ],
   "source": [
    "test_loss, test_acc = network.evaluate(test_data, test_labels)\n",
    "print('test_acc:', test_acc)\n",
    "print('test_loss:', test_loss)"
   ]
  },
  {
   "cell_type": "code",
   "execution_count": null,
   "metadata": {},
   "outputs": [],
   "source": []
  }
 ],
 "metadata": {
  "kernelspec": {
   "display_name": "Python 3",
   "language": "python",
   "name": "python3"
  },
  "language_info": {
   "codemirror_mode": {
    "name": "ipython",
    "version": 3
   },
   "file_extension": ".py",
   "mimetype": "text/x-python",
   "name": "python",
   "nbconvert_exporter": "python",
   "pygments_lexer": "ipython3",
   "version": "3.8.3"
  }
 },
 "nbformat": 4,
 "nbformat_minor": 4
}
